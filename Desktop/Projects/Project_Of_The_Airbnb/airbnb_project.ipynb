{
 "cells": [
  {
   "cell_type": "markdown",
   "metadata": {},
   "source": [
    "# Air b&b Project : Omar Alsaghan, Abdullah Alkhadeer, Abdullah Almubarak."
   ]
  },
  {
   "cell_type": "markdown",
   "metadata": {},
   "source": [
    "## Importing and Exploring the Data."
   ]
  },
  {
   "cell_type": "code",
   "execution_count": 1,
   "metadata": {
    "scrolled": true
   },
   "outputs": [],
   "source": [
    "import pandas as pd\n",
    "%matplotlib inline\n",
    "import numpy as np\n",
    "import seaborn as sns\n",
    "import matplotlib.pyplot as plt "
   ]
  },
  {
   "cell_type": "code",
   "execution_count": 2,
   "metadata": {},
   "outputs": [],
   "source": [
    "airbnb = pd.read_csv(r'C:\\Users\\Abdullah\\Desktop\\Air B&B Project\\AirBnb.csv')\n",
    "#Importing the Air B&B Data File."
   ]
  },
  {
   "cell_type": "code",
   "execution_count": 3,
   "metadata": {},
   "outputs": [
    {
     "data": {
      "text/plain": [
       "(3723, 64)"
      ]
     },
     "execution_count": 3,
     "metadata": {},
     "output_type": "execute_result"
    }
   ],
   "source": [
    "airbnb.shape \n",
    "#Exploring the rows ans columns of the data."
   ]
  },
  {
   "cell_type": "code",
   "execution_count": 4,
   "metadata": {},
   "outputs": [
    {
     "data": {
      "text/html": [
       "<div>\n",
       "<style scoped>\n",
       "    .dataframe tbody tr th:only-of-type {\n",
       "        vertical-align: middle;\n",
       "    }\n",
       "\n",
       "    .dataframe tbody tr th {\n",
       "        vertical-align: top;\n",
       "    }\n",
       "\n",
       "    .dataframe thead th {\n",
       "        text-align: right;\n",
       "    }\n",
       "</style>\n",
       "<table border=\"1\" class=\"dataframe\">\n",
       "  <thead>\n",
       "    <tr style=\"text-align: right;\">\n",
       "      <th></th>\n",
       "      <th>id</th>\n",
       "      <th>name</th>\n",
       "      <th>summary</th>\n",
       "      <th>space</th>\n",
       "      <th>host_id</th>\n",
       "      <th>host_url</th>\n",
       "      <th>host_name</th>\n",
       "      <th>host_since</th>\n",
       "      <th>host_location</th>\n",
       "      <th>host_about</th>\n",
       "      <th>...</th>\n",
       "      <th>number_of_reviews</th>\n",
       "      <th>first_review</th>\n",
       "      <th>last_review</th>\n",
       "      <th>review_scores_rating</th>\n",
       "      <th>review_scores_accuracy</th>\n",
       "      <th>review_scores_cleanliness</th>\n",
       "      <th>review_scores_checkin</th>\n",
       "      <th>review_scores_communication</th>\n",
       "      <th>review_scores_location</th>\n",
       "      <th>review_scores_value</th>\n",
       "    </tr>\n",
       "  </thead>\n",
       "  <tbody>\n",
       "    <tr>\n",
       "      <th>0</th>\n",
       "      <td>7087327</td>\n",
       "      <td>Historic DC Condo-Walk to Capitol!</td>\n",
       "      <td>Professional pictures coming soon! Welcome to ...</td>\n",
       "      <td>NaN</td>\n",
       "      <td>15830506</td>\n",
       "      <td>https://www.airbnb.com/users/show/15830506</td>\n",
       "      <td>Lize &amp; Greg</td>\n",
       "      <td>5/21/14</td>\n",
       "      <td>Washington, District of Columbia, United States</td>\n",
       "      <td>We are two fun, friendly entrepreneurs living ...</td>\n",
       "      <td>...</td>\n",
       "      <td>0</td>\n",
       "      <td>NaN</td>\n",
       "      <td>NaN</td>\n",
       "      <td>NaN</td>\n",
       "      <td>NaN</td>\n",
       "      <td>NaN</td>\n",
       "      <td>NaN</td>\n",
       "      <td>NaN</td>\n",
       "      <td>NaN</td>\n",
       "      <td>NaN</td>\n",
       "    </tr>\n",
       "    <tr>\n",
       "      <th>1</th>\n",
       "      <td>975833</td>\n",
       "      <td>Spacious Capitol Hill Townhouse</td>\n",
       "      <td>NaN</td>\n",
       "      <td>Beautifully renovated Capitol Hill townhouse. ...</td>\n",
       "      <td>5338703</td>\n",
       "      <td>https://www.airbnb.com/users/show/5338703</td>\n",
       "      <td>Sebastian</td>\n",
       "      <td>3/5/13</td>\n",
       "      <td>New York, New York, United States</td>\n",
       "      <td>Hi I'm Sebastian. \\r\\nAfter ten years in DC, m...</td>\n",
       "      <td>...</td>\n",
       "      <td>65</td>\n",
       "      <td>3/22/13</td>\n",
       "      <td>9/28/15</td>\n",
       "      <td>94.0</td>\n",
       "      <td>10.0</td>\n",
       "      <td>9.0</td>\n",
       "      <td>10.0</td>\n",
       "      <td>10.0</td>\n",
       "      <td>9.0</td>\n",
       "      <td>9.0</td>\n",
       "    </tr>\n",
       "    <tr>\n",
       "      <th>2</th>\n",
       "      <td>8249488</td>\n",
       "      <td>Spacious/private room for single</td>\n",
       "      <td>This is an ideal room for a single traveler th...</td>\n",
       "      <td>NaN</td>\n",
       "      <td>1487418</td>\n",
       "      <td>https://www.airbnb.com/users/show/1487418</td>\n",
       "      <td>Craig</td>\n",
       "      <td>12/9/11</td>\n",
       "      <td>Washington, District of Columbia, United States</td>\n",
       "      <td>just ask</td>\n",
       "      <td>...</td>\n",
       "      <td>1</td>\n",
       "      <td>9/10/15</td>\n",
       "      <td>9/10/15</td>\n",
       "      <td>NaN</td>\n",
       "      <td>NaN</td>\n",
       "      <td>NaN</td>\n",
       "      <td>NaN</td>\n",
       "      <td>NaN</td>\n",
       "      <td>NaN</td>\n",
       "      <td>NaN</td>\n",
       "    </tr>\n",
       "    <tr>\n",
       "      <th>3</th>\n",
       "      <td>8409022</td>\n",
       "      <td>A wonderful bedroom with library</td>\n",
       "      <td>Prime location right on the Potomac River in W...</td>\n",
       "      <td>NaN</td>\n",
       "      <td>16970249</td>\n",
       "      <td>https://www.airbnb.com/users/show/16970249</td>\n",
       "      <td>Christopher</td>\n",
       "      <td>6/18/14</td>\n",
       "      <td>Washington, District of Columbia, United States</td>\n",
       "      <td>NaN</td>\n",
       "      <td>...</td>\n",
       "      <td>0</td>\n",
       "      <td>NaN</td>\n",
       "      <td>NaN</td>\n",
       "      <td>NaN</td>\n",
       "      <td>NaN</td>\n",
       "      <td>NaN</td>\n",
       "      <td>NaN</td>\n",
       "      <td>NaN</td>\n",
       "      <td>NaN</td>\n",
       "      <td>NaN</td>\n",
       "    </tr>\n",
       "    <tr>\n",
       "      <th>4</th>\n",
       "      <td>8411173</td>\n",
       "      <td>Downtown Silver Spring</td>\n",
       "      <td>Hi travellers! I live in this peaceful spot, b...</td>\n",
       "      <td>This is a 750 sq ft 1 bedroom 1 bathroom.  Whi...</td>\n",
       "      <td>30369828</td>\n",
       "      <td>https://www.airbnb.com/users/show/30369828</td>\n",
       "      <td>Joshua</td>\n",
       "      <td>3/31/15</td>\n",
       "      <td>Baltimore, Maryland, United States</td>\n",
       "      <td>NaN</td>\n",
       "      <td>...</td>\n",
       "      <td>0</td>\n",
       "      <td>NaN</td>\n",
       "      <td>NaN</td>\n",
       "      <td>NaN</td>\n",
       "      <td>NaN</td>\n",
       "      <td>NaN</td>\n",
       "      <td>NaN</td>\n",
       "      <td>NaN</td>\n",
       "      <td>NaN</td>\n",
       "      <td>NaN</td>\n",
       "    </tr>\n",
       "  </tbody>\n",
       "</table>\n",
       "<p>5 rows × 64 columns</p>\n",
       "</div>"
      ],
      "text/plain": [
       "        id                                name  \\\n",
       "0  7087327  Historic DC Condo-Walk to Capitol!   \n",
       "1   975833     Spacious Capitol Hill Townhouse   \n",
       "2  8249488    Spacious/private room for single   \n",
       "3  8409022    A wonderful bedroom with library   \n",
       "4  8411173              Downtown Silver Spring   \n",
       "\n",
       "                                             summary  \\\n",
       "0  Professional pictures coming soon! Welcome to ...   \n",
       "1                                                NaN   \n",
       "2  This is an ideal room for a single traveler th...   \n",
       "3  Prime location right on the Potomac River in W...   \n",
       "4  Hi travellers! I live in this peaceful spot, b...   \n",
       "\n",
       "                                               space   host_id  \\\n",
       "0                                                NaN  15830506   \n",
       "1  Beautifully renovated Capitol Hill townhouse. ...   5338703   \n",
       "2                                                NaN   1487418   \n",
       "3                                                NaN  16970249   \n",
       "4  This is a 750 sq ft 1 bedroom 1 bathroom.  Whi...  30369828   \n",
       "\n",
       "                                     host_url    host_name host_since  \\\n",
       "0  https://www.airbnb.com/users/show/15830506  Lize & Greg    5/21/14   \n",
       "1   https://www.airbnb.com/users/show/5338703    Sebastian     3/5/13   \n",
       "2   https://www.airbnb.com/users/show/1487418        Craig    12/9/11   \n",
       "3  https://www.airbnb.com/users/show/16970249  Christopher    6/18/14   \n",
       "4  https://www.airbnb.com/users/show/30369828       Joshua    3/31/15   \n",
       "\n",
       "                                     host_location  \\\n",
       "0  Washington, District of Columbia, United States   \n",
       "1                New York, New York, United States   \n",
       "2  Washington, District of Columbia, United States   \n",
       "3  Washington, District of Columbia, United States   \n",
       "4               Baltimore, Maryland, United States   \n",
       "\n",
       "                                          host_about  ... number_of_reviews  \\\n",
       "0  We are two fun, friendly entrepreneurs living ...  ...                 0   \n",
       "1  Hi I'm Sebastian. \\r\\nAfter ten years in DC, m...  ...                65   \n",
       "2                                           just ask  ...                 1   \n",
       "3                                                NaN  ...                 0   \n",
       "4                                                NaN  ...                 0   \n",
       "\n",
       "  first_review last_review review_scores_rating review_scores_accuracy  \\\n",
       "0          NaN         NaN                  NaN                    NaN   \n",
       "1      3/22/13     9/28/15                 94.0                   10.0   \n",
       "2      9/10/15     9/10/15                  NaN                    NaN   \n",
       "3          NaN         NaN                  NaN                    NaN   \n",
       "4          NaN         NaN                  NaN                    NaN   \n",
       "\n",
       "  review_scores_cleanliness review_scores_checkin  \\\n",
       "0                       NaN                   NaN   \n",
       "1                       9.0                  10.0   \n",
       "2                       NaN                   NaN   \n",
       "3                       NaN                   NaN   \n",
       "4                       NaN                   NaN   \n",
       "\n",
       "   review_scores_communication  review_scores_location review_scores_value  \n",
       "0                          NaN                     NaN                 NaN  \n",
       "1                         10.0                     9.0                 9.0  \n",
       "2                          NaN                     NaN                 NaN  \n",
       "3                          NaN                     NaN                 NaN  \n",
       "4                          NaN                     NaN                 NaN  \n",
       "\n",
       "[5 rows x 64 columns]"
      ]
     },
     "execution_count": 4,
     "metadata": {},
     "output_type": "execute_result"
    }
   ],
   "source": [
    "airbnb.head(5)  \n",
    "#Looking at a sample of the data."
   ]
  },
  {
   "cell_type": "code",
   "execution_count": 5,
   "metadata": {},
   "outputs": [
    {
     "data": {
      "text/plain": [
       "0"
      ]
     },
     "execution_count": 5,
     "metadata": {},
     "output_type": "execute_result"
    }
   ],
   "source": [
    "airbnb['id'].duplicated().sum()\n",
    "# Here we're checking for any duplicates in the id column to make sure no listings have been scraped twice by the bot."
   ]
  },
  {
   "cell_type": "code",
   "execution_count": 6,
   "metadata": {},
   "outputs": [
    {
     "data": {
      "text/plain": [
       "id                               int64\n",
       "name                            object\n",
       "summary                         object\n",
       "space                           object\n",
       "host_id                          int64\n",
       "host_url                        object\n",
       "host_name                       object\n",
       "host_since                      object\n",
       "host_location                   object\n",
       "host_about                      object\n",
       "host_response_time              object\n",
       "host_response_rate              object\n",
       "host_acceptance_rate            object\n",
       "host_is_superhost               object\n",
       "host_thumbnail_url              object\n",
       "host_picture_url                object\n",
       "host_neighbourhood              object\n",
       "host_listings_count              int64\n",
       "host_total_listings_count        int64\n",
       "host_has_profile_pic            object\n",
       "host_identity_verified          object\n",
       "street                          object\n",
       "neighbourhood                   object\n",
       "city                            object\n",
       "state                           object\n",
       "zipcode                         object\n",
       "market                          object\n",
       "country_code                    object\n",
       "latitude                       float64\n",
       "longitude                      float64\n",
       "                                ...   \n",
       "bathrooms                      float64\n",
       "bedrooms                       float64\n",
       "beds                           float64\n",
       "square_feet                    float64\n",
       "price                           object\n",
       "weekly_price                    object\n",
       "monthly_price                   object\n",
       "security_deposit                object\n",
       "cleaning_fee                    object\n",
       "guests_included                  int64\n",
       "extra_people                    object\n",
       "minimum_nights                   int64\n",
       "maximum_nights                   int64\n",
       "calendar_updated                object\n",
       "has_availability                object\n",
       "availability_30                  int64\n",
       "availability_60                  int64\n",
       "availability_90                  int64\n",
       "availability_365                 int64\n",
       "calendar_last_scraped           object\n",
       "number_of_reviews                int64\n",
       "first_review                    object\n",
       "last_review                     object\n",
       "review_scores_rating           float64\n",
       "review_scores_accuracy         float64\n",
       "review_scores_cleanliness      float64\n",
       "review_scores_checkin          float64\n",
       "review_scores_communication    float64\n",
       "review_scores_location         float64\n",
       "review_scores_value            float64\n",
       "Length: 64, dtype: object"
      ]
     },
     "execution_count": 6,
     "metadata": {},
     "output_type": "execute_result"
    }
   ],
   "source": [
    "airbnb.dtypes\n",
    "# Identifying the types of the columns included in the data. Just to get a picture of what \n",
    "# we're dealing with."
   ]
  },
  {
   "cell_type": "markdown",
   "metadata": {},
   "source": [
    "## Data Cleaning "
   ]
  },
  {
   "cell_type": "code",
   "execution_count": 7,
   "metadata": {},
   "outputs": [
    {
     "data": {
      "text/html": [
       "<div>\n",
       "<style scoped>\n",
       "    .dataframe tbody tr th:only-of-type {\n",
       "        vertical-align: middle;\n",
       "    }\n",
       "\n",
       "    .dataframe tbody tr th {\n",
       "        vertical-align: top;\n",
       "    }\n",
       "\n",
       "    .dataframe thead th {\n",
       "        text-align: right;\n",
       "    }\n",
       "</style>\n",
       "<table border=\"1\" class=\"dataframe\">\n",
       "  <thead>\n",
       "    <tr style=\"text-align: right;\">\n",
       "      <th></th>\n",
       "      <th>count</th>\n",
       "    </tr>\n",
       "    <tr>\n",
       "      <th>state</th>\n",
       "      <th></th>\n",
       "    </tr>\n",
       "  </thead>\n",
       "  <tbody>\n",
       "    <tr>\n",
       "      <th>DC</th>\n",
       "      <td>3696.0</td>\n",
       "    </tr>\n",
       "    <tr>\n",
       "      <th>MD</th>\n",
       "      <td>24.0</td>\n",
       "    </tr>\n",
       "    <tr>\n",
       "      <th>NY</th>\n",
       "      <td>1.0</td>\n",
       "    </tr>\n",
       "    <tr>\n",
       "      <th>VA</th>\n",
       "      <td>1.0</td>\n",
       "    </tr>\n",
       "    <tr>\n",
       "      <th>Washington DC</th>\n",
       "      <td>1.0</td>\n",
       "    </tr>\n",
       "  </tbody>\n",
       "</table>\n",
       "</div>"
      ],
      "text/plain": [
       "                count\n",
       "state                \n",
       "DC             3696.0\n",
       "MD               24.0\n",
       "NY                1.0\n",
       "VA                1.0\n",
       "Washington DC     1.0"
      ]
     },
     "execution_count": 7,
     "metadata": {},
     "output_type": "execute_result"
    }
   ],
   "source": [
    "airbnb.groupby('state')['id'].describe()[['count']]\n",
    "# Understanding the distibution of lisitngs per State, our goal is to exclude any non DC listings. "
   ]
  },
  {
   "cell_type": "code",
   "execution_count": 8,
   "metadata": {},
   "outputs": [],
   "source": [
    "airbnb['state'] = airbnb['state'].replace(\"Washington DC\", \"DC\")\n",
    "# A listing was denoted under the state Washington DC, we used this line to replace it with DC."
   ]
  },
  {
   "cell_type": "code",
   "execution_count": 9,
   "metadata": {},
   "outputs": [],
   "source": [
    "airbnb = airbnb[airbnb['state'] == 'DC']\n",
    "# Since the investor is only interested in the DC area, we've only included realestate in the \n",
    "# DC area using this code."
   ]
  },
  {
   "cell_type": "code",
   "execution_count": 10,
   "metadata": {},
   "outputs": [
    {
     "data": {
      "text/html": [
       "<div>\n",
       "<style scoped>\n",
       "    .dataframe tbody tr th:only-of-type {\n",
       "        vertical-align: middle;\n",
       "    }\n",
       "\n",
       "    .dataframe tbody tr th {\n",
       "        vertical-align: top;\n",
       "    }\n",
       "\n",
       "    .dataframe thead th {\n",
       "        text-align: right;\n",
       "    }\n",
       "</style>\n",
       "<table border=\"1\" class=\"dataframe\">\n",
       "  <thead>\n",
       "    <tr style=\"text-align: right;\">\n",
       "      <th></th>\n",
       "      <th>count</th>\n",
       "    </tr>\n",
       "    <tr>\n",
       "      <th>state</th>\n",
       "      <th></th>\n",
       "    </tr>\n",
       "  </thead>\n",
       "  <tbody>\n",
       "    <tr>\n",
       "      <th>DC</th>\n",
       "      <td>3697.0</td>\n",
       "    </tr>\n",
       "  </tbody>\n",
       "</table>\n",
       "</div>"
      ],
      "text/plain": [
       "        count\n",
       "state        \n",
       "DC     3697.0"
      ]
     },
     "execution_count": 10,
     "metadata": {},
     "output_type": "execute_result"
    }
   ],
   "source": [
    "airbnb.groupby('state')['id'].describe()[['count']]\n",
    "# This is to ensure that only DC realestate will be included in the analysis."
   ]
  },
  {
   "cell_type": "code",
   "execution_count": 11,
   "metadata": {},
   "outputs": [
    {
     "data": {
      "text/plain": [
       "square_feet                    3615\n",
       "security_deposit               2280\n",
       "monthly_price                  1900\n",
       "weekly_price                   1584\n",
       "cleaning_fee                   1374\n",
       "host_about                      951\n",
       "review_scores_checkin           862\n",
       "review_scores_cleanliness       862\n",
       "review_scores_accuracy          861\n",
       "review_scores_location          858\n",
       "review_scores_value             858\n",
       "review_scores_communication     858\n",
       "review_scores_rating            854\n",
       "first_review                    817\n",
       "last_review                     817\n",
       "space                           735\n",
       "host_acceptance_rate            606\n",
       "host_response_time              428\n",
       "host_response_rate              428\n",
       "neighbourhood                   343\n",
       "summary                         266\n",
       "host_neighbourhood              253\n",
       "bathrooms                        25\n",
       "bedrooms                         21\n",
       "beds                             11\n",
       "zipcode                           9\n",
       "host_location                     6\n",
       "property_type                     1\n",
       "dtype: int64"
      ]
     },
     "execution_count": 11,
     "metadata": {},
     "output_type": "execute_result"
    }
   ],
   "source": [
    "airbnb.isnull().sum()[airbnb.isnull().sum() != 0]\\\n",
    ".sort_values(ascending=False)\n",
    "# We'd like to understand the status of the null values per column. If they exist.\n",
    "# Notice that neighbourhoods have null values. So we have to deal with that for future analysis."
   ]
  },
  {
   "cell_type": "code",
   "execution_count": 12,
   "metadata": {},
   "outputs": [
    {
     "data": {
      "text/html": [
       "<div>\n",
       "<style scoped>\n",
       "    .dataframe tbody tr th:only-of-type {\n",
       "        vertical-align: middle;\n",
       "    }\n",
       "\n",
       "    .dataframe tbody tr th {\n",
       "        vertical-align: top;\n",
       "    }\n",
       "\n",
       "    .dataframe thead th {\n",
       "        text-align: right;\n",
       "    }\n",
       "</style>\n",
       "<table border=\"1\" class=\"dataframe\">\n",
       "  <thead>\n",
       "    <tr style=\"text-align: right;\">\n",
       "      <th></th>\n",
       "      <th>count</th>\n",
       "    </tr>\n",
       "    <tr>\n",
       "      <th>city</th>\n",
       "      <th></th>\n",
       "    </tr>\n",
       "  </thead>\n",
       "  <tbody>\n",
       "    <tr>\n",
       "      <th>Adams Morgan</th>\n",
       "      <td>1.0</td>\n",
       "    </tr>\n",
       "    <tr>\n",
       "      <th>Capitol Hill, Washington</th>\n",
       "      <td>1.0</td>\n",
       "    </tr>\n",
       "    <tr>\n",
       "      <th>Columbia Heights, middle of DC!</th>\n",
       "      <td>1.0</td>\n",
       "    </tr>\n",
       "    <tr>\n",
       "      <th>Dupont Circle</th>\n",
       "      <td>1.0</td>\n",
       "    </tr>\n",
       "    <tr>\n",
       "      <th>Washington</th>\n",
       "      <td>3628.0</td>\n",
       "    </tr>\n",
       "    <tr>\n",
       "      <th>Washington</th>\n",
       "      <td>2.0</td>\n",
       "    </tr>\n",
       "    <tr>\n",
       "      <th>Washington, D.C.</th>\n",
       "      <td>63.0</td>\n",
       "    </tr>\n",
       "  </tbody>\n",
       "</table>\n",
       "</div>"
      ],
      "text/plain": [
       "                                  count\n",
       "city                                   \n",
       "Adams Morgan                        1.0\n",
       "Capitol Hill, Washington            1.0\n",
       "Columbia Heights, middle of DC!     1.0\n",
       "Dupont Circle                       1.0\n",
       "Washington                       3628.0\n",
       "Washington                          2.0\n",
       "Washington, D.C.                   63.0"
      ]
     },
     "execution_count": 12,
     "metadata": {},
     "output_type": "execute_result"
    }
   ],
   "source": [
    "airbnb.groupby('city')['id'].describe()[['count']]\n",
    "# This was used to know which cities were included in the analysis, all are in the DC area."
   ]
  },
  {
   "cell_type": "code",
   "execution_count": 13,
   "metadata": {},
   "outputs": [],
   "source": [
    "airbnb = airbnb[airbnb['number_of_reviews'] != 0]\n",
    "# Remove all listings without reviews."
   ]
  },
  {
   "cell_type": "code",
   "execution_count": 14,
   "metadata": {},
   "outputs": [],
   "source": [
    "airbnb = airbnb[airbnb['property_type'].notnull()]\n",
    "# There was one listing with a property type null value, so we removed it."
   ]
  },
  {
   "cell_type": "code",
   "execution_count": 15,
   "metadata": {},
   "outputs": [
    {
     "data": {
      "text/plain": [
       "(2879, 64)"
      ]
     },
     "execution_count": 15,
     "metadata": {},
     "output_type": "execute_result"
    }
   ],
   "source": [
    "airbnb.shape \n",
    "# Checking the shape of the data."
   ]
  },
  {
   "cell_type": "code",
   "execution_count": 16,
   "metadata": {},
   "outputs": [],
   "source": [
    "airbnb = airbnb.drop(['summary','space','host_url','host_location','host_thumbnail_url',\\\n",
    "             'host_picture_url','host_location','space','host_about','country_code','host_neighbourhood'], axis = 1)\n",
    "#removing unnecessery columns. "
   ]
  },
  {
   "cell_type": "code",
   "execution_count": 17,
   "metadata": {},
   "outputs": [
    {
     "data": {
      "text/plain": [
       "(2879, 55)"
      ]
     },
     "execution_count": 17,
     "metadata": {},
     "output_type": "execute_result"
    }
   ],
   "source": [
    "airbnb.shape\n",
    "# Checking the shape of the data. After removing unnecessary columns."
   ]
  },
  {
   "cell_type": "code",
   "execution_count": 18,
   "metadata": {},
   "outputs": [
    {
     "data": {
      "text/html": [
       "<div>\n",
       "<style scoped>\n",
       "    .dataframe tbody tr th:only-of-type {\n",
       "        vertical-align: middle;\n",
       "    }\n",
       "\n",
       "    .dataframe tbody tr th {\n",
       "        vertical-align: top;\n",
       "    }\n",
       "\n",
       "    .dataframe thead th {\n",
       "        text-align: right;\n",
       "    }\n",
       "</style>\n",
       "<table border=\"1\" class=\"dataframe\">\n",
       "  <thead>\n",
       "    <tr style=\"text-align: right;\">\n",
       "      <th></th>\n",
       "      <th>id</th>\n",
       "      <th>name</th>\n",
       "      <th>host_id</th>\n",
       "      <th>host_name</th>\n",
       "      <th>host_since</th>\n",
       "      <th>host_response_time</th>\n",
       "      <th>host_response_rate</th>\n",
       "      <th>host_acceptance_rate</th>\n",
       "      <th>host_is_superhost</th>\n",
       "      <th>host_listings_count</th>\n",
       "      <th>...</th>\n",
       "      <th>number_of_reviews</th>\n",
       "      <th>first_review</th>\n",
       "      <th>last_review</th>\n",
       "      <th>review_scores_rating</th>\n",
       "      <th>review_scores_accuracy</th>\n",
       "      <th>review_scores_cleanliness</th>\n",
       "      <th>review_scores_checkin</th>\n",
       "      <th>review_scores_communication</th>\n",
       "      <th>review_scores_location</th>\n",
       "      <th>review_scores_value</th>\n",
       "    </tr>\n",
       "  </thead>\n",
       "  <tbody>\n",
       "    <tr>\n",
       "      <th>1</th>\n",
       "      <td>975833</td>\n",
       "      <td>Spacious Capitol Hill Townhouse</td>\n",
       "      <td>5338703</td>\n",
       "      <td>Sebastian</td>\n",
       "      <td>3/5/13</td>\n",
       "      <td>within a day</td>\n",
       "      <td>90%</td>\n",
       "      <td>100%</td>\n",
       "      <td>f</td>\n",
       "      <td>1</td>\n",
       "      <td>...</td>\n",
       "      <td>65</td>\n",
       "      <td>3/22/13</td>\n",
       "      <td>9/28/15</td>\n",
       "      <td>94.0</td>\n",
       "      <td>10.0</td>\n",
       "      <td>9.0</td>\n",
       "      <td>10.0</td>\n",
       "      <td>10.0</td>\n",
       "      <td>9.0</td>\n",
       "      <td>9.0</td>\n",
       "    </tr>\n",
       "    <tr>\n",
       "      <th>23</th>\n",
       "      <td>333613</td>\n",
       "      <td>CHIC DC URBAN RETREAT</td>\n",
       "      <td>966914</td>\n",
       "      <td>Annie</td>\n",
       "      <td>8/14/11</td>\n",
       "      <td>within an hour</td>\n",
       "      <td>100%</td>\n",
       "      <td>100%</td>\n",
       "      <td>t</td>\n",
       "      <td>1</td>\n",
       "      <td>...</td>\n",
       "      <td>46</td>\n",
       "      <td>3/11/12</td>\n",
       "      <td>10/1/15</td>\n",
       "      <td>100.0</td>\n",
       "      <td>10.0</td>\n",
       "      <td>10.0</td>\n",
       "      <td>10.0</td>\n",
       "      <td>10.0</td>\n",
       "      <td>10.0</td>\n",
       "      <td>10.0</td>\n",
       "    </tr>\n",
       "    <tr>\n",
       "      <th>24</th>\n",
       "      <td>1026034</td>\n",
       "      <td>Perfect studio in VERY central DC</td>\n",
       "      <td>2070536</td>\n",
       "      <td>Joel</td>\n",
       "      <td>4/4/12</td>\n",
       "      <td>within a few hours</td>\n",
       "      <td>100%</td>\n",
       "      <td>100%</td>\n",
       "      <td>t</td>\n",
       "      <td>2</td>\n",
       "      <td>...</td>\n",
       "      <td>84</td>\n",
       "      <td>5/20/13</td>\n",
       "      <td>9/30/15</td>\n",
       "      <td>99.0</td>\n",
       "      <td>10.0</td>\n",
       "      <td>10.0</td>\n",
       "      <td>10.0</td>\n",
       "      <td>10.0</td>\n",
       "      <td>10.0</td>\n",
       "      <td>9.0</td>\n",
       "    </tr>\n",
       "    <tr>\n",
       "      <th>25</th>\n",
       "      <td>2486785</td>\n",
       "      <td>Logan Circle Loft 1bedroom, 1.5bath</td>\n",
       "      <td>12725500</td>\n",
       "      <td>Mayrose</td>\n",
       "      <td>3/2/14</td>\n",
       "      <td>within a day</td>\n",
       "      <td>53%</td>\n",
       "      <td>69%</td>\n",
       "      <td>f</td>\n",
       "      <td>1</td>\n",
       "      <td>...</td>\n",
       "      <td>25</td>\n",
       "      <td>4/7/14</td>\n",
       "      <td>8/1/15</td>\n",
       "      <td>91.0</td>\n",
       "      <td>10.0</td>\n",
       "      <td>8.0</td>\n",
       "      <td>9.0</td>\n",
       "      <td>9.0</td>\n",
       "      <td>10.0</td>\n",
       "      <td>9.0</td>\n",
       "    </tr>\n",
       "    <tr>\n",
       "      <th>26</th>\n",
       "      <td>1822257</td>\n",
       "      <td>Updated 2BD Rowhome Steps to Metro</td>\n",
       "      <td>9540128</td>\n",
       "      <td>Matt</td>\n",
       "      <td>10/20/13</td>\n",
       "      <td>within an hour</td>\n",
       "      <td>100%</td>\n",
       "      <td>100%</td>\n",
       "      <td>f</td>\n",
       "      <td>1</td>\n",
       "      <td>...</td>\n",
       "      <td>4</td>\n",
       "      <td>12/16/13</td>\n",
       "      <td>8/8/14</td>\n",
       "      <td>100.0</td>\n",
       "      <td>9.0</td>\n",
       "      <td>10.0</td>\n",
       "      <td>10.0</td>\n",
       "      <td>10.0</td>\n",
       "      <td>9.0</td>\n",
       "      <td>10.0</td>\n",
       "    </tr>\n",
       "  </tbody>\n",
       "</table>\n",
       "<p>5 rows × 55 columns</p>\n",
       "</div>"
      ],
      "text/plain": [
       "         id                                 name   host_id  host_name  \\\n",
       "1    975833      Spacious Capitol Hill Townhouse   5338703  Sebastian   \n",
       "23   333613                CHIC DC URBAN RETREAT    966914      Annie   \n",
       "24  1026034    Perfect studio in VERY central DC   2070536       Joel   \n",
       "25  2486785  Logan Circle Loft 1bedroom, 1.5bath  12725500    Mayrose   \n",
       "26  1822257   Updated 2BD Rowhome Steps to Metro   9540128       Matt   \n",
       "\n",
       "   host_since  host_response_time host_response_rate host_acceptance_rate  \\\n",
       "1      3/5/13        within a day                90%                 100%   \n",
       "23    8/14/11      within an hour               100%                 100%   \n",
       "24     4/4/12  within a few hours               100%                 100%   \n",
       "25     3/2/14        within a day                53%                  69%   \n",
       "26   10/20/13      within an hour               100%                 100%   \n",
       "\n",
       "   host_is_superhost  host_listings_count  ...  number_of_reviews  \\\n",
       "1                  f                    1  ...                 65   \n",
       "23                 t                    1  ...                 46   \n",
       "24                 t                    2  ...                 84   \n",
       "25                 f                    1  ...                 25   \n",
       "26                 f                    1  ...                  4   \n",
       "\n",
       "   first_review last_review review_scores_rating review_scores_accuracy  \\\n",
       "1       3/22/13     9/28/15                 94.0                   10.0   \n",
       "23      3/11/12     10/1/15                100.0                   10.0   \n",
       "24      5/20/13     9/30/15                 99.0                   10.0   \n",
       "25       4/7/14      8/1/15                 91.0                   10.0   \n",
       "26     12/16/13      8/8/14                100.0                    9.0   \n",
       "\n",
       "   review_scores_cleanliness review_scores_checkin  \\\n",
       "1                        9.0                  10.0   \n",
       "23                      10.0                  10.0   \n",
       "24                      10.0                  10.0   \n",
       "25                       8.0                   9.0   \n",
       "26                      10.0                  10.0   \n",
       "\n",
       "   review_scores_communication review_scores_location  review_scores_value  \n",
       "1                         10.0                    9.0                  9.0  \n",
       "23                        10.0                   10.0                 10.0  \n",
       "24                        10.0                   10.0                  9.0  \n",
       "25                         9.0                   10.0                  9.0  \n",
       "26                        10.0                    9.0                 10.0  \n",
       "\n",
       "[5 rows x 55 columns]"
      ]
     },
     "execution_count": 18,
     "metadata": {},
     "output_type": "execute_result"
    }
   ],
   "source": [
    "airbnb. head()"
   ]
  },
  {
   "cell_type": "code",
   "execution_count": 19,
   "metadata": {
    "scrolled": true
   },
   "outputs": [
    {
     "data": {
      "text/plain": [
       "Index(['id', 'name', 'host_id', 'host_name', 'host_since',\n",
       "       'host_response_time', 'host_response_rate', 'host_acceptance_rate',\n",
       "       'host_is_superhost', 'host_listings_count', 'host_total_listings_count',\n",
       "       'host_has_profile_pic', 'host_identity_verified', 'street',\n",
       "       'neighbourhood', 'city', 'state', 'zipcode', 'market', 'latitude',\n",
       "       'longitude', 'is_location_exact', 'property_type', 'room_type',\n",
       "       'accommodates', 'bathrooms', 'bedrooms', 'beds', 'square_feet', 'price',\n",
       "       'weekly_price', 'monthly_price', 'security_deposit', 'cleaning_fee',\n",
       "       'guests_included', 'extra_people', 'minimum_nights', 'maximum_nights',\n",
       "       'calendar_updated', 'has_availability', 'availability_30',\n",
       "       'availability_60', 'availability_90', 'availability_365',\n",
       "       'calendar_last_scraped', 'number_of_reviews', 'first_review',\n",
       "       'last_review', 'review_scores_rating', 'review_scores_accuracy',\n",
       "       'review_scores_cleanliness', 'review_scores_checkin',\n",
       "       'review_scores_communication', 'review_scores_location',\n",
       "       'review_scores_value'],\n",
       "      dtype='object')"
      ]
     },
     "execution_count": 19,
     "metadata": {},
     "output_type": "execute_result"
    }
   ],
   "source": [
    "airbnb.columns \n",
    "# To check what columns are left to work with."
   ]
  },
  {
   "cell_type": "markdown",
   "metadata": {},
   "source": [
    "### Converting price from string to float."
   ]
  },
  {
   "cell_type": "code",
   "execution_count": 20,
   "metadata": {},
   "outputs": [
    {
     "data": {
      "text/html": [
       "<div>\n",
       "<style scoped>\n",
       "    .dataframe tbody tr th:only-of-type {\n",
       "        vertical-align: middle;\n",
       "    }\n",
       "\n",
       "    .dataframe tbody tr th {\n",
       "        vertical-align: top;\n",
       "    }\n",
       "\n",
       "    .dataframe thead th {\n",
       "        text-align: right;\n",
       "    }\n",
       "</style>\n",
       "<table border=\"1\" class=\"dataframe\">\n",
       "  <thead>\n",
       "    <tr style=\"text-align: right;\">\n",
       "      <th></th>\n",
       "      <th>price</th>\n",
       "    </tr>\n",
       "  </thead>\n",
       "  <tbody>\n",
       "    <tr>\n",
       "      <th>1</th>\n",
       "      <td>$350.00</td>\n",
       "    </tr>\n",
       "    <tr>\n",
       "      <th>23</th>\n",
       "      <td>$149.00</td>\n",
       "    </tr>\n",
       "    <tr>\n",
       "      <th>24</th>\n",
       "      <td>$150.00</td>\n",
       "    </tr>\n",
       "    <tr>\n",
       "      <th>25</th>\n",
       "      <td>$175.00</td>\n",
       "    </tr>\n",
       "    <tr>\n",
       "      <th>26</th>\n",
       "      <td>$239.00</td>\n",
       "    </tr>\n",
       "  </tbody>\n",
       "</table>\n",
       "</div>"
      ],
      "text/plain": [
       "       price\n",
       "1   $350.00 \n",
       "23  $149.00 \n",
       "24  $150.00 \n",
       "25  $175.00 \n",
       "26  $239.00 "
      ]
     },
     "execution_count": 20,
     "metadata": {},
     "output_type": "execute_result"
    }
   ],
   "source": [
    "airbnb[['price']].head()\n",
    "# This is used to understand what needs to be done to transform the price from string to float.\n",
    "# We need to remove the dollar sign $ and the apostrophe. "
   ]
  },
  {
   "cell_type": "code",
   "execution_count": 21,
   "metadata": {},
   "outputs": [],
   "source": [
    "airbnb['price'] = airbnb['price'].str.strip('$')\n",
    "airbnb['price'] = airbnb['price'].str.replace(',','')\n",
    "airbnb['price'] = (airbnb['price']).astype(float)\n",
    "# This is to remove the $ sign and apostrophe from the price string and then converting it to float."
   ]
  },
  {
   "cell_type": "code",
   "execution_count": 22,
   "metadata": {},
   "outputs": [],
   "source": [
    "airbnb['extra_people']= airbnb['extra_people'].str.strip('$')\n",
    "airbnb['extra_people'] = airbnb['extra_people'].str.replace(',','')\n",
    "airbnb['extra_people'] = (airbnb['extra_people']).astype(float)\n",
    "# This is to remove the $ sign and apostrophe from the Extra people \n",
    "# price string and then converting it to float."
   ]
  },
  {
   "cell_type": "code",
   "execution_count": 23,
   "metadata": {},
   "outputs": [
    {
     "data": {
      "text/plain": [
       "price           float64\n",
       "extra_people    float64\n",
       "dtype: object"
      ]
     },
     "execution_count": 23,
     "metadata": {},
     "output_type": "execute_result"
    }
   ],
   "source": [
    "airbnb.dtypes[['price', 'extra_people']]\n",
    "# This step is to ensure that the price and extra people column has been successfully transformed."
   ]
  },
  {
   "cell_type": "code",
   "execution_count": 24,
   "metadata": {},
   "outputs": [
    {
     "data": {
      "text/plain": [
       "1402    1200.0\n",
       "1277    1200.0\n",
       "861      975.0\n",
       "853      775.0\n",
       "571      720.0\n",
       "1254     695.0\n",
       "2053     679.0\n",
       "734      650.0\n",
       "2889     600.0\n",
       "855      595.0\n",
       "Name: price, dtype: float64"
      ]
     },
     "execution_count": 24,
     "metadata": {},
     "output_type": "execute_result"
    }
   ],
   "source": [
    "airbnb.sort_values(by='price', ascending=False).head(10)['price']\n",
    "# Also to check that all prices have been successfully transformed without erroneous results."
   ]
  },
  {
   "cell_type": "markdown",
   "metadata": {},
   "source": [
    "### Exploring the columns and removing null neighbourhoods "
   ]
  },
  {
   "cell_type": "code",
   "execution_count": 25,
   "metadata": {},
   "outputs": [
    {
     "data": {
      "text/plain": [
       "Apartment          1752\n",
       "House               963\n",
       "Condominium          49\n",
       "Townhouse            48\n",
       "Bed & Breakfast      36\n",
       "Loft                 19\n",
       "Other                 8\n",
       "Dorm                  2\n",
       "Bungalow              1\n",
       "Cabin                 1\n",
       "Name: property_type, dtype: int64"
      ]
     },
     "execution_count": 25,
     "metadata": {},
     "output_type": "execute_result"
    }
   ],
   "source": [
    "airbnb['property_type'].value_counts()\n",
    "# This is to further comprehend property type distributions"
   ]
  },
  {
   "cell_type": "code",
   "execution_count": 26,
   "metadata": {},
   "outputs": [
    {
     "data": {
      "text/plain": [
       "Entire home/apt    1871\n",
       "Private room        931\n",
       "Shared room          77\n",
       "Name: room_type, dtype: int64"
      ]
     },
     "execution_count": 26,
     "metadata": {},
     "output_type": "execute_result"
    }
   ],
   "source": [
    "airbnb['room_type'].value_counts()\n",
    "# This is to further comprehend room type distributions"
   ]
  },
  {
   "cell_type": "code",
   "execution_count": 27,
   "metadata": {},
   "outputs": [
    {
     "data": {
      "text/plain": [
       "Capitol Hill                          279\n",
       "Columbia Heights                      209\n",
       "Dupont Circle                         164\n",
       "Logan Circle                          156\n",
       "U Street Corridor                     146\n",
       "Adams Morgan                          112\n",
       "Near Northeast/H Street Corridor      106\n",
       "Shaw                                   98\n",
       "Petworth                               73\n",
       "Georgetown                             69\n",
       "Mount Pleasant                         67\n",
       "Mount Vernon Square                    65\n",
       "Bloomingdale                           65\n",
       "Kalorama                               61\n",
       "Southwest Waterfront                   55\n",
       "Foggy Bottom                           49\n",
       "Eckington                              48\n",
       "16th Street Heights                    45\n",
       "Park View                              44\n",
       "Kingman Park                           43\n",
       "Downtown/Penn Quarter                  40\n",
       "West End                               37\n",
       "Barney Circle                          34\n",
       "Brookland                              34\n",
       "Cleveland Park                         29\n",
       "LeDroit Park                           27\n",
       "Trinidad                               27\n",
       "Edgewood                               25\n",
       "Truxton Circle                         25\n",
       "Manor Park                             24\n",
       "                                     ... \n",
       "North Michigan Park                     4\n",
       "Lamond Riggs                            4\n",
       "Central Northeast/Mahaning Heights      4\n",
       "Foxhall                                 4\n",
       "Berkley                                 3\n",
       "Ivy City                                3\n",
       "Douglass                                3\n",
       "Twining                                 2\n",
       "Bellevue                                2\n",
       "River Terrace                           2\n",
       "Benning                                 2\n",
       "Deanwood                                2\n",
       "Good Hope                               2\n",
       "Garfield Heights                        2\n",
       "Spring Valley                           2\n",
       "Gallaudet                               1\n",
       "East Corner                             1\n",
       "Shipley Terrace                         1\n",
       "McLean Gardens                          1\n",
       "Woodland                                1\n",
       "Hillcrest                               1\n",
       "Washington Highlands                    1\n",
       "Benning Heights                         1\n",
       "Old Soldiers' Home                      1\n",
       "Catholic University                     1\n",
       "Greenway                                1\n",
       "Fort Dupont                             1\n",
       "Fort Davis                              1\n",
       "Mt. Vernon Square                       1\n",
       "Pleasant Hill                           1\n",
       "Name: neighbourhood, Length: 93, dtype: int64"
      ]
     },
     "execution_count": 27,
     "metadata": {},
     "output_type": "execute_result"
    }
   ],
   "source": [
    "airbnb['neighbourhood'].value_counts()\n",
    "# This is to further neighbourhood type distributions"
   ]
  },
  {
   "cell_type": "code",
   "execution_count": 28,
   "metadata": {},
   "outputs": [
    {
     "data": {
      "text/plain": [
       "id                                0\n",
       "name                              0\n",
       "host_id                           0\n",
       "host_name                         0\n",
       "host_since                        0\n",
       "host_response_time              181\n",
       "host_response_rate              181\n",
       "host_acceptance_rate            266\n",
       "host_is_superhost                 0\n",
       "host_listings_count               0\n",
       "host_total_listings_count         0\n",
       "host_has_profile_pic              0\n",
       "host_identity_verified            0\n",
       "street                            0\n",
       "neighbourhood                   240\n",
       "city                              0\n",
       "state                             0\n",
       "zipcode                           8\n",
       "market                            0\n",
       "latitude                          0\n",
       "longitude                         0\n",
       "is_location_exact                 0\n",
       "property_type                     0\n",
       "room_type                         0\n",
       "accommodates                      0\n",
       "bathrooms                        15\n",
       "bedrooms                         18\n",
       "beds                              4\n",
       "square_feet                    2811\n",
       "price                             0\n",
       "weekly_price                   1150\n",
       "monthly_price                  1413\n",
       "security_deposit               1721\n",
       "cleaning_fee                    965\n",
       "guests_included                   0\n",
       "extra_people                      0\n",
       "minimum_nights                    0\n",
       "maximum_nights                    0\n",
       "calendar_updated                  0\n",
       "has_availability                  0\n",
       "availability_30                   0\n",
       "availability_60                   0\n",
       "availability_90                   0\n",
       "availability_365                  0\n",
       "calendar_last_scraped             0\n",
       "number_of_reviews                 0\n",
       "first_review                      0\n",
       "last_review                       0\n",
       "review_scores_rating             36\n",
       "review_scores_accuracy           43\n",
       "review_scores_cleanliness        44\n",
       "review_scores_checkin            44\n",
       "review_scores_communication      40\n",
       "review_scores_location           40\n",
       "review_scores_value              40\n",
       "dtype: int64"
      ]
     },
     "execution_count": 28,
     "metadata": {},
     "output_type": "execute_result"
    }
   ],
   "source": [
    "airbnb.isnull().sum()\n",
    "# understanding the distribution of null values after cleaning."
   ]
  },
  {
   "cell_type": "code",
   "execution_count": 29,
   "metadata": {},
   "outputs": [
    {
     "data": {
      "text/plain": [
       "240"
      ]
     },
     "execution_count": 29,
     "metadata": {},
     "output_type": "execute_result"
    }
   ],
   "source": [
    "airbnb['neighbourhood'].isnull().sum()\n",
    "# So we have 240 null values under neighbourhoods. We want to delete these values \n",
    "# to make sure we're eliminating null results.\n"
   ]
  },
  {
   "cell_type": "code",
   "execution_count": 30,
   "metadata": {},
   "outputs": [],
   "source": [
    "airbnb = airbnb[airbnb['neighbourhood'].notnull()]\n",
    "# Remove all null values under "
   ]
  },
  {
   "cell_type": "code",
   "execution_count": 31,
   "metadata": {},
   "outputs": [
    {
     "data": {
      "text/plain": [
       "0"
      ]
     },
     "execution_count": 31,
     "metadata": {},
     "output_type": "execute_result"
    }
   ],
   "source": [
    "airbnb['neighbourhood'].isnull().sum()\n",
    "# Remove null values in the neighbourhood column."
   ]
  },
  {
   "cell_type": "markdown",
   "metadata": {},
   "source": [
    "### Creating the revenue columns"
   ]
  },
  {
   "cell_type": "code",
   "execution_count": 32,
   "metadata": {},
   "outputs": [],
   "source": [
    "airbnb['bookings'] = airbnb['number_of_reviews'] * 2\n",
    "# Since we're assuming 2 stays generate 1 review. We mupltiplied  \n",
    "# number of reviews by 2 to find the total bookings per listing."
   ]
  },
  {
   "cell_type": "code",
   "execution_count": 33,
   "metadata": {},
   "outputs": [
    {
     "data": {
      "text/html": [
       "<div>\n",
       "<style scoped>\n",
       "    .dataframe tbody tr th:only-of-type {\n",
       "        vertical-align: middle;\n",
       "    }\n",
       "\n",
       "    .dataframe tbody tr th {\n",
       "        vertical-align: top;\n",
       "    }\n",
       "\n",
       "    .dataframe thead th {\n",
       "        text-align: right;\n",
       "    }\n",
       "</style>\n",
       "<table border=\"1\" class=\"dataframe\">\n",
       "  <thead>\n",
       "    <tr style=\"text-align: right;\">\n",
       "      <th></th>\n",
       "      <th>number_of_reviews</th>\n",
       "      <th>bookings</th>\n",
       "    </tr>\n",
       "  </thead>\n",
       "  <tbody>\n",
       "    <tr>\n",
       "      <th>1</th>\n",
       "      <td>65</td>\n",
       "      <td>130</td>\n",
       "    </tr>\n",
       "    <tr>\n",
       "      <th>23</th>\n",
       "      <td>46</td>\n",
       "      <td>92</td>\n",
       "    </tr>\n",
       "    <tr>\n",
       "      <th>24</th>\n",
       "      <td>84</td>\n",
       "      <td>168</td>\n",
       "    </tr>\n",
       "    <tr>\n",
       "      <th>25</th>\n",
       "      <td>25</td>\n",
       "      <td>50</td>\n",
       "    </tr>\n",
       "    <tr>\n",
       "      <th>26</th>\n",
       "      <td>4</td>\n",
       "      <td>8</td>\n",
       "    </tr>\n",
       "  </tbody>\n",
       "</table>\n",
       "</div>"
      ],
      "text/plain": [
       "    number_of_reviews  bookings\n",
       "1                  65       130\n",
       "23                 46        92\n",
       "24                 84       168\n",
       "25                 25        50\n",
       "26                  4         8"
      ]
     },
     "execution_count": 33,
     "metadata": {},
     "output_type": "execute_result"
    }
   ],
   "source": [
    "airbnb[['number_of_reviews','bookings']].head()\n",
    "# to check if the bookings column has been created successfully. "
   ]
  },
  {
   "cell_type": "code",
   "execution_count": 34,
   "metadata": {},
   "outputs": [
    {
     "data": {
      "text/plain": [
       "array([ 6,  1,  4,  3,  2,  5,  9, 10,  8,  7, 13, 15, 11, 12, 16, 14],\n",
       "      dtype=int64)"
      ]
     },
     "execution_count": 34,
     "metadata": {},
     "output_type": "execute_result"
    }
   ],
   "source": [
    "airbnb['accommodates'].unique()\n",
    "# This is to check what unique values exist for the accommodates section. "
   ]
  },
  {
   "cell_type": "code",
   "execution_count": 35,
   "metadata": {},
   "outputs": [],
   "source": [
    "# this function finds the revenue per listing.\n",
    "# Assumptions: only 2 guests stay for the booking, unless the listing only accommodates one person, then no extra people fees apply. \n",
    "# First, if the listing only allows the accommodation of one person at a time\n",
    "# i.e. accommodation = 1 then the revenue equals = number of bookings* minimum nights * price\n",
    "# Second, since we're assuming that \n",
    "def get_revenue(airbnb):\n",
    "    \n",
    "    if airbnb['accommodates'] == 1 : return airbnb['price']\n",
    "            \n",
    "    elif airbnb['accommodates'] >= 2 and airbnb['guests_included'] == 1 : return airbnb['price'] + airbnb['extra_people'] \n",
    "    \n",
    "    else : return airbnb['price']"
   ]
  },
  {
   "cell_type": "code",
   "execution_count": 36,
   "metadata": {},
   "outputs": [],
   "source": [
    "airbnb['daily_revenue'] = airbnb.apply(get_revenue, axis =1 )\n",
    "# This is to use the get_revenue function to create the daily_revenue."
   ]
  },
  {
   "cell_type": "code",
   "execution_count": 37,
   "metadata": {},
   "outputs": [],
   "source": [
    "airbnb['revenue'] = airbnb['daily_revenue'] * airbnb['bookings']*airbnb['minimum_nights']\n",
    "# This is to use the revenue = daily_revenue columns * # of Bookings * Min Nights to find the total revenue."
   ]
  },
  {
   "cell_type": "code",
   "execution_count": 38,
   "metadata": {},
   "outputs": [
    {
     "data": {
      "text/html": [
       "<div>\n",
       "<style scoped>\n",
       "    .dataframe tbody tr th:only-of-type {\n",
       "        vertical-align: middle;\n",
       "    }\n",
       "\n",
       "    .dataframe tbody tr th {\n",
       "        vertical-align: top;\n",
       "    }\n",
       "\n",
       "    .dataframe thead th {\n",
       "        text-align: right;\n",
       "    }\n",
       "</style>\n",
       "<table border=\"1\" class=\"dataframe\">\n",
       "  <thead>\n",
       "    <tr style=\"text-align: right;\">\n",
       "      <th></th>\n",
       "      <th>daily_revenue</th>\n",
       "      <th>revenue</th>\n",
       "      <th>bookings</th>\n",
       "      <th>minimum_nights</th>\n",
       "      <th>price</th>\n",
       "      <th>accommodates</th>\n",
       "      <th>guests_included</th>\n",
       "      <th>extra_people</th>\n",
       "    </tr>\n",
       "  </thead>\n",
       "  <tbody>\n",
       "    <tr>\n",
       "      <th>3718</th>\n",
       "      <td>135.0</td>\n",
       "      <td>15390.0</td>\n",
       "      <td>38</td>\n",
       "      <td>3</td>\n",
       "      <td>135.0</td>\n",
       "      <td>4</td>\n",
       "      <td>2</td>\n",
       "      <td>25.0</td>\n",
       "    </tr>\n",
       "    <tr>\n",
       "      <th>3719</th>\n",
       "      <td>104.0</td>\n",
       "      <td>22464.0</td>\n",
       "      <td>72</td>\n",
       "      <td>3</td>\n",
       "      <td>79.0</td>\n",
       "      <td>2</td>\n",
       "      <td>1</td>\n",
       "      <td>25.0</td>\n",
       "    </tr>\n",
       "    <tr>\n",
       "      <th>3720</th>\n",
       "      <td>275.0</td>\n",
       "      <td>13200.0</td>\n",
       "      <td>24</td>\n",
       "      <td>2</td>\n",
       "      <td>275.0</td>\n",
       "      <td>6</td>\n",
       "      <td>1</td>\n",
       "      <td>0.0</td>\n",
       "    </tr>\n",
       "    <tr>\n",
       "      <th>3721</th>\n",
       "      <td>179.0</td>\n",
       "      <td>34368.0</td>\n",
       "      <td>96</td>\n",
       "      <td>2</td>\n",
       "      <td>179.0</td>\n",
       "      <td>2</td>\n",
       "      <td>0</td>\n",
       "      <td>0.0</td>\n",
       "    </tr>\n",
       "    <tr>\n",
       "      <th>3722</th>\n",
       "      <td>110.0</td>\n",
       "      <td>440.0</td>\n",
       "      <td>2</td>\n",
       "      <td>2</td>\n",
       "      <td>110.0</td>\n",
       "      <td>3</td>\n",
       "      <td>1</td>\n",
       "      <td>0.0</td>\n",
       "    </tr>\n",
       "  </tbody>\n",
       "</table>\n",
       "</div>"
      ],
      "text/plain": [
       "      daily_revenue  revenue  bookings  minimum_nights  price  accommodates  \\\n",
       "3718          135.0  15390.0        38               3  135.0             4   \n",
       "3719          104.0  22464.0        72               3   79.0             2   \n",
       "3720          275.0  13200.0        24               2  275.0             6   \n",
       "3721          179.0  34368.0        96               2  179.0             2   \n",
       "3722          110.0    440.0         2               2  110.0             3   \n",
       "\n",
       "      guests_included  extra_people  \n",
       "3718                2          25.0  \n",
       "3719                1          25.0  \n",
       "3720                1           0.0  \n",
       "3721                0           0.0  \n",
       "3722                1           0.0  "
      ]
     },
     "execution_count": 38,
     "metadata": {},
     "output_type": "execute_result"
    }
   ],
   "source": [
    "airbnb[['daily_revenue','revenue','bookings','minimum_nights','price','accommodates','guests_included','extra_people']].tail()\n",
    "# This is to check if the code functioned properly and the columns were created correctly."
   ]
  },
  {
   "cell_type": "markdown",
   "metadata": {},
   "source": [
    "# Prompt #1: How much revenue do successful hosts make?"
   ]
  },
  {
   "cell_type": "code",
   "execution_count": 39,
   "metadata": {},
   "outputs": [
    {
     "data": {
      "text/html": [
       "<div>\n",
       "<style scoped>\n",
       "    .dataframe tbody tr th:only-of-type {\n",
       "        vertical-align: middle;\n",
       "    }\n",
       "\n",
       "    .dataframe tbody tr th {\n",
       "        vertical-align: top;\n",
       "    }\n",
       "\n",
       "    .dataframe thead th {\n",
       "        text-align: right;\n",
       "    }\n",
       "</style>\n",
       "<table border=\"1\" class=\"dataframe\">\n",
       "  <thead>\n",
       "    <tr style=\"text-align: right;\">\n",
       "      <th></th>\n",
       "      <th></th>\n",
       "      <th>revenue</th>\n",
       "    </tr>\n",
       "    <tr>\n",
       "      <th>host_id</th>\n",
       "      <th>host_name</th>\n",
       "      <th></th>\n",
       "    </tr>\n",
       "  </thead>\n",
       "  <tbody>\n",
       "    <tr>\n",
       "      <th>180061</th>\n",
       "      <th>Hermosa</th>\n",
       "      <td>920192.0</td>\n",
       "    </tr>\n",
       "    <tr>\n",
       "      <th>12830388</th>\n",
       "      <th>Jessica</th>\n",
       "      <td>393800.0</td>\n",
       "    </tr>\n",
       "    <tr>\n",
       "      <th>56646</th>\n",
       "      <th>Serge</th>\n",
       "      <td>196716.0</td>\n",
       "    </tr>\n",
       "    <tr>\n",
       "      <th>64814</th>\n",
       "      <th>Matt And Jean</th>\n",
       "      <td>164925.0</td>\n",
       "    </tr>\n",
       "    <tr>\n",
       "      <th>29711</th>\n",
       "      <th>The Remuzzi Brothers</th>\n",
       "      <td>157466.0</td>\n",
       "    </tr>\n",
       "    <tr>\n",
       "      <th>4531028</th>\n",
       "      <th>Will</th>\n",
       "      <td>154290.0</td>\n",
       "    </tr>\n",
       "    <tr>\n",
       "      <th>4576149</th>\n",
       "      <th>Christine + Mike</th>\n",
       "      <td>139200.0</td>\n",
       "    </tr>\n",
       "    <tr>\n",
       "      <th>14268157</th>\n",
       "      <th>Gohar</th>\n",
       "      <td>126157.5</td>\n",
       "    </tr>\n",
       "    <tr>\n",
       "      <th>253258</th>\n",
       "      <th>Daryl</th>\n",
       "      <td>119970.0</td>\n",
       "    </tr>\n",
       "    <tr>\n",
       "      <th>1885105</th>\n",
       "      <th>Dwylene</th>\n",
       "      <td>117465.0</td>\n",
       "    </tr>\n",
       "  </tbody>\n",
       "</table>\n",
       "</div>"
      ],
      "text/plain": [
       "                                revenue\n",
       "host_id  host_name                     \n",
       "180061   Hermosa               920192.0\n",
       "12830388 Jessica               393800.0\n",
       "56646    Serge                 196716.0\n",
       "64814    Matt And Jean         164925.0\n",
       "29711    The Remuzzi Brothers  157466.0\n",
       "4531028  Will                  154290.0\n",
       "4576149  Christine + Mike      139200.0\n",
       "14268157 Gohar                 126157.5\n",
       "253258   Daryl                 119970.0\n",
       "1885105  Dwylene               117465.0"
      ]
     },
     "execution_count": 39,
     "metadata": {},
     "output_type": "execute_result"
    }
   ],
   "source": [
    "rev_per_host = airbnb.groupby(['host_id','host_name'])[['revenue']].mean().\\\n",
    "sort_values(by = 'revenue', ascending = True).tail(10)\n",
    "rev_per_host.sort_values(by = 'revenue', ascending = False)\n",
    "# We started off by assigning a new data frame using a groupby of host_id and revenue.\n",
    "# To find revenue per host. \n"
   ]
  },
  {
   "cell_type": "code",
   "execution_count": 40,
   "metadata": {},
   "outputs": [
    {
     "data": {
      "image/png": "[encoded data removed]",
      "text/plain": [
       "<Figure size 432x288 with 1 Axes>"
      ]
     },
     "metadata": {
      "needs_background": "light"
     },
     "output_type": "display_data"
    }
   ],
   "source": [
    "# Plotting most successful hosts by revenue \n",
    "#rev_per_host_plot = rev_per_host.sort_values(by = 'revenue', ascending = False)['revenue'].head(10).plot(kind = 'bar');\n",
    "rev_per_host_plot = rev_per_host.plot(kind= 'barh')\n",
    "\n",
    "#Setting a title to the plot.\n",
    "rev_per_host_plot.set_title('Revenue Generated by Most Successful Hosts', fontsize=10, y=1.01);\n",
    "\n",
    "# Move the legend.\n",
    "rev_per_host_plot.legend(loc=4);\n",
    "\n",
    "# x-axis labels\n",
    "rev_per_host_plot.set_xlabel('Total Revenue', fontsize=16);\n",
    "\n",
    "# y-axis labels\n",
    "rev_per_host_plot.set_ylabel('Host id , Name', fontsize=16)\n",
    "plt.xticks(rotation=0);"
   ]
  },
  {
   "cell_type": "code",
   "execution_count": 41,
   "metadata": {
    "scrolled": true
   },
   "outputs": [
    {
     "data": {
      "text/html": [
       "<div>\n",
       "<style scoped>\n",
       "    .dataframe tbody tr th:only-of-type {\n",
       "        vertical-align: middle;\n",
       "    }\n",
       "\n",
       "    .dataframe tbody tr th {\n",
       "        vertical-align: top;\n",
       "    }\n",
       "\n",
       "    .dataframe thead th {\n",
       "        text-align: right;\n",
       "    }\n",
       "</style>\n",
       "<table border=\"1\" class=\"dataframe\">\n",
       "  <thead>\n",
       "    <tr style=\"text-align: right;\">\n",
       "      <th></th>\n",
       "      <th>mean</th>\n",
       "      <th>count</th>\n",
       "    </tr>\n",
       "    <tr>\n",
       "      <th>neighbourhood</th>\n",
       "      <th></th>\n",
       "      <th></th>\n",
       "    </tr>\n",
       "  </thead>\n",
       "  <tbody>\n",
       "    <tr>\n",
       "      <th>Benning Heights</th>\n",
       "      <td>40800.000000</td>\n",
       "      <td>1.0</td>\n",
       "    </tr>\n",
       "    <tr>\n",
       "      <th>Langdon</th>\n",
       "      <td>38686.800000</td>\n",
       "      <td>5.0</td>\n",
       "    </tr>\n",
       "    <tr>\n",
       "      <th>Berkley</th>\n",
       "      <td>26866.666667</td>\n",
       "      <td>3.0</td>\n",
       "    </tr>\n",
       "    <tr>\n",
       "      <th>Hillcrest</th>\n",
       "      <td>23560.000000</td>\n",
       "      <td>1.0</td>\n",
       "    </tr>\n",
       "    <tr>\n",
       "      <th>Downtown/Penn Quarter</th>\n",
       "      <td>22390.600000</td>\n",
       "      <td>40.0</td>\n",
       "    </tr>\n",
       "    <tr>\n",
       "      <th>Bloomingdale</th>\n",
       "      <td>22022.676923</td>\n",
       "      <td>65.0</td>\n",
       "    </tr>\n",
       "    <tr>\n",
       "      <th>North Michigan Park</th>\n",
       "      <td>21407.500000</td>\n",
       "      <td>4.0</td>\n",
       "    </tr>\n",
       "    <tr>\n",
       "      <th>Dupont Circle</th>\n",
       "      <td>18867.682927</td>\n",
       "      <td>164.0</td>\n",
       "    </tr>\n",
       "    <tr>\n",
       "      <th>Capitol Hill</th>\n",
       "      <td>17798.781362</td>\n",
       "      <td>279.0</td>\n",
       "    </tr>\n",
       "    <tr>\n",
       "      <th>LeDroit Park</th>\n",
       "      <td>17404.888889</td>\n",
       "      <td>27.0</td>\n",
       "    </tr>\n",
       "  </tbody>\n",
       "</table>\n",
       "</div>"
      ],
      "text/plain": [
       "                               mean  count\n",
       "neighbourhood                             \n",
       "Benning Heights        40800.000000    1.0\n",
       "Langdon                38686.800000    5.0\n",
       "Berkley                26866.666667    3.0\n",
       "Hillcrest              23560.000000    1.0\n",
       "Downtown/Penn Quarter  22390.600000   40.0\n",
       "Bloomingdale           22022.676923   65.0\n",
       "North Michigan Park    21407.500000    4.0\n",
       "Dupont Circle          18867.682927  164.0\n",
       "Capitol Hill           17798.781362  279.0\n",
       "LeDroit Park           17404.888889   27.0"
      ]
     },
     "execution_count": 41,
     "metadata": {},
     "output_type": "execute_result"
    }
   ],
   "source": [
    "airbnb.groupby('neighbourhood')['revenue'].describe().sort_values(['mean'], ascending = False)[['mean', 'count']].head(10)\n",
    "#In this line, a groupby is used to find the revenue per neighborhood, to clarify which\n",
    "# neighbourhoods have been successful in attracting airb&b guests."
   ]
  },
  {
   "cell_type": "code",
   "execution_count": 42,
   "metadata": {},
   "outputs": [],
   "source": [
    "rev_per_neighbourhood= airbnb.groupby('neighbourhood')['revenue']\\\n",
    ".describe().sort_values(['mean'], ascending = False)[['mean', 'count']]\n",
    "# This is used to assign the group by data frame to rev_per_neighbourhood."
   ]
  },
  {
   "cell_type": "code",
   "execution_count": 43,
   "metadata": {
    "scrolled": true
   },
   "outputs": [
    {
     "data": {
      "text/html": [
       "<div>\n",
       "<style scoped>\n",
       "    .dataframe tbody tr th:only-of-type {\n",
       "        vertical-align: middle;\n",
       "    }\n",
       "\n",
       "    .dataframe tbody tr th {\n",
       "        vertical-align: top;\n",
       "    }\n",
       "\n",
       "    .dataframe thead th {\n",
       "        text-align: right;\n",
       "    }\n",
       "</style>\n",
       "<table border=\"1\" class=\"dataframe\">\n",
       "  <thead>\n",
       "    <tr style=\"text-align: right;\">\n",
       "      <th></th>\n",
       "      <th>mean</th>\n",
       "      <th>count</th>\n",
       "    </tr>\n",
       "    <tr>\n",
       "      <th>neighbourhood</th>\n",
       "      <th></th>\n",
       "      <th></th>\n",
       "    </tr>\n",
       "  </thead>\n",
       "  <tbody>\n",
       "    <tr>\n",
       "      <th>Downtown/Penn Quarter</th>\n",
       "      <td>22390.600000</td>\n",
       "      <td>40.0</td>\n",
       "    </tr>\n",
       "    <tr>\n",
       "      <th>Bloomingdale</th>\n",
       "      <td>22022.676923</td>\n",
       "      <td>65.0</td>\n",
       "    </tr>\n",
       "    <tr>\n",
       "      <th>Dupont Circle</th>\n",
       "      <td>18867.682927</td>\n",
       "      <td>164.0</td>\n",
       "    </tr>\n",
       "    <tr>\n",
       "      <th>Capitol Hill</th>\n",
       "      <td>17798.781362</td>\n",
       "      <td>279.0</td>\n",
       "    </tr>\n",
       "    <tr>\n",
       "      <th>Shaw</th>\n",
       "      <td>15377.000000</td>\n",
       "      <td>98.0</td>\n",
       "    </tr>\n",
       "    <tr>\n",
       "      <th>Mount Vernon Square</th>\n",
       "      <td>14775.200000</td>\n",
       "      <td>65.0</td>\n",
       "    </tr>\n",
       "    <tr>\n",
       "      <th>Eckington</th>\n",
       "      <td>13574.625000</td>\n",
       "      <td>48.0</td>\n",
       "    </tr>\n",
       "    <tr>\n",
       "      <th>Kingman Park</th>\n",
       "      <td>12069.162791</td>\n",
       "      <td>43.0</td>\n",
       "    </tr>\n",
       "    <tr>\n",
       "      <th>Mount Pleasant</th>\n",
       "      <td>11412.686567</td>\n",
       "      <td>67.0</td>\n",
       "    </tr>\n",
       "    <tr>\n",
       "      <th>Kalorama</th>\n",
       "      <td>11398.393443</td>\n",
       "      <td>61.0</td>\n",
       "    </tr>\n",
       "  </tbody>\n",
       "</table>\n",
       "</div>"
      ],
      "text/plain": [
       "                               mean  count\n",
       "neighbourhood                             \n",
       "Downtown/Penn Quarter  22390.600000   40.0\n",
       "Bloomingdale           22022.676923   65.0\n",
       "Dupont Circle          18867.682927  164.0\n",
       "Capitol Hill           17798.781362  279.0\n",
       "Shaw                   15377.000000   98.0\n",
       "Mount Vernon Square    14775.200000   65.0\n",
       "Eckington              13574.625000   48.0\n",
       "Kingman Park           12069.162791   43.0\n",
       "Mount Pleasant         11412.686567   67.0\n",
       "Kalorama               11398.393443   61.0"
      ]
     },
     "execution_count": 43,
     "metadata": {},
     "output_type": "execute_result"
    }
   ],
   "source": [
    "rev_per_neighbourhood[rev_per_neighbourhood['count'] >= 40]\\\n",
    ". sort_values(by = ['mean'], ascending = False).head(10)\n",
    "# This is used to filter out the neighborhoods that have property counts greater than 40.\n",
    "# Because we want to make sure that a large specimen was used in our analysis. i.e. => 40."
   ]
  },
  {
   "cell_type": "code",
   "execution_count": 44,
   "metadata": {
    "scrolled": true
   },
   "outputs": [
    {
     "data": {
      "image/png": "[encoded data removed]",
      "text/plain": [
       "<Figure size 432x288 with 1 Axes>"
      ]
     },
     "metadata": {
      "needs_background": "light"
     },
     "output_type": "display_data"
    }
   ],
   "source": [
    "rev_per_neighbourhood_plot = rev_per_neighbourhood[rev_per_neighbourhood['count'] >= 40].\\\n",
    "sort_values(by = ['mean'])[['mean']].tail(10).plot(kind = 'barh', color = 'c');\n",
    "# Plot Function\n",
    "\n",
    "#Setting a title to the plot.\n",
    "rev_per_neighbourhood_plot.set_title('Highest Revenue per Neighborhood', fontsize=10, y=1.01);\n",
    "\n",
    "# Move the legend.\n",
    "rev_per_neighbourhood_plot.legend(loc=4);\n",
    "\n",
    "# x-axis labels\n",
    "rev_per_neighbourhood_plot.set_ylabel('', fontsize=16);\n",
    "\n",
    "# y-axis labels\n",
    "rev_per_neighbourhood_plot.set_xlabel('Average Revenue per Neighbourhood', fontsize=16)\n",
    "plt.xticks(rotation=0);\n"
   ]
  },
  {
   "cell_type": "code",
   "execution_count": 45,
   "metadata": {},
   "outputs": [
    {
     "data": {
      "text/html": [
       "<div>\n",
       "<style scoped>\n",
       "    .dataframe tbody tr th:only-of-type {\n",
       "        vertical-align: middle;\n",
       "    }\n",
       "\n",
       "    .dataframe tbody tr th {\n",
       "        vertical-align: top;\n",
       "    }\n",
       "\n",
       "    .dataframe thead th {\n",
       "        text-align: right;\n",
       "    }\n",
       "</style>\n",
       "<table border=\"1\" class=\"dataframe\">\n",
       "  <thead>\n",
       "    <tr style=\"text-align: right;\">\n",
       "      <th></th>\n",
       "      <th>mean</th>\n",
       "      <th>count</th>\n",
       "    </tr>\n",
       "    <tr>\n",
       "      <th>neighbourhood</th>\n",
       "      <th></th>\n",
       "      <th></th>\n",
       "    </tr>\n",
       "  </thead>\n",
       "  <tbody>\n",
       "    <tr>\n",
       "      <th>Old Soldiers' Home</th>\n",
       "      <td>186.000000</td>\n",
       "      <td>1.0</td>\n",
       "    </tr>\n",
       "    <tr>\n",
       "      <th>Benning Heights</th>\n",
       "      <td>160.000000</td>\n",
       "      <td>1.0</td>\n",
       "    </tr>\n",
       "    <tr>\n",
       "      <th>Fort Dupont</th>\n",
       "      <td>116.000000</td>\n",
       "      <td>1.0</td>\n",
       "    </tr>\n",
       "    <tr>\n",
       "      <th>Langdon</th>\n",
       "      <td>113.200000</td>\n",
       "      <td>5.0</td>\n",
       "    </tr>\n",
       "    <tr>\n",
       "      <th>North Michigan Park</th>\n",
       "      <td>109.500000</td>\n",
       "      <td>4.0</td>\n",
       "    </tr>\n",
       "    <tr>\n",
       "      <th>Randle Highlands</th>\n",
       "      <td>95.428571</td>\n",
       "      <td>7.0</td>\n",
       "    </tr>\n",
       "    <tr>\n",
       "      <th>Cathedral Heights</th>\n",
       "      <td>83.800000</td>\n",
       "      <td>10.0</td>\n",
       "    </tr>\n",
       "    <tr>\n",
       "      <th>Eckington</th>\n",
       "      <td>73.083333</td>\n",
       "      <td>48.0</td>\n",
       "    </tr>\n",
       "    <tr>\n",
       "      <th>Lamond Riggs</th>\n",
       "      <td>72.500000</td>\n",
       "      <td>4.0</td>\n",
       "    </tr>\n",
       "    <tr>\n",
       "      <th>Crestwood</th>\n",
       "      <td>72.000000</td>\n",
       "      <td>5.0</td>\n",
       "    </tr>\n",
       "  </tbody>\n",
       "</table>\n",
       "</div>"
      ],
      "text/plain": [
       "                           mean  count\n",
       "neighbourhood                         \n",
       "Old Soldiers' Home   186.000000    1.0\n",
       "Benning Heights      160.000000    1.0\n",
       "Fort Dupont          116.000000    1.0\n",
       "Langdon              113.200000    5.0\n",
       "North Michigan Park  109.500000    4.0\n",
       "Randle Highlands      95.428571    7.0\n",
       "Cathedral Heights     83.800000   10.0\n",
       "Eckington             73.083333   48.0\n",
       "Lamond Riggs          72.500000    4.0\n",
       "Crestwood             72.000000    5.0"
      ]
     },
     "execution_count": 45,
     "metadata": {},
     "output_type": "execute_result"
    }
   ],
   "source": [
    "airbnb.groupby('neighbourhood')['bookings'].describe().sort_values(['mean'], ascending = False)[['mean', 'count']].head(10)\n",
    "#In this line, a groupby is used to find the revenue per neighborhood, to clarify which\n",
    "# neighbourhoods have been successful in attracting airb&b guests."
   ]
  },
  {
   "cell_type": "code",
   "execution_count": 46,
   "metadata": {},
   "outputs": [],
   "source": [
    "daily_rev_per_neighbourhood= airbnb.groupby('neighbourhood')['bookings']\\\n",
    ".describe().sort_values(['mean'], ascending = False)[['mean', 'count']]\n",
    "# This is used to assign the group by data frame to rev_per_neighbourhood."
   ]
  },
  {
   "cell_type": "code",
   "execution_count": 47,
   "metadata": {},
   "outputs": [
    {
     "data": {
      "text/html": [
       "<div>\n",
       "<style scoped>\n",
       "    .dataframe tbody tr th:only-of-type {\n",
       "        vertical-align: middle;\n",
       "    }\n",
       "\n",
       "    .dataframe tbody tr th {\n",
       "        vertical-align: top;\n",
       "    }\n",
       "\n",
       "    .dataframe thead th {\n",
       "        text-align: right;\n",
       "    }\n",
       "</style>\n",
       "<table border=\"1\" class=\"dataframe\">\n",
       "  <thead>\n",
       "    <tr style=\"text-align: right;\">\n",
       "      <th></th>\n",
       "      <th>mean</th>\n",
       "      <th>count</th>\n",
       "    </tr>\n",
       "    <tr>\n",
       "      <th>neighbourhood</th>\n",
       "      <th></th>\n",
       "      <th></th>\n",
       "    </tr>\n",
       "  </thead>\n",
       "  <tbody>\n",
       "    <tr>\n",
       "      <th>Eckington</th>\n",
       "      <td>73.083333</td>\n",
       "      <td>48.0</td>\n",
       "    </tr>\n",
       "    <tr>\n",
       "      <th>Downtown/Penn Quarter</th>\n",
       "      <td>66.750000</td>\n",
       "      <td>40.0</td>\n",
       "    </tr>\n",
       "    <tr>\n",
       "      <th>Capitol Hill</th>\n",
       "      <td>59.620072</td>\n",
       "      <td>279.0</td>\n",
       "    </tr>\n",
       "    <tr>\n",
       "      <th>Shaw</th>\n",
       "      <td>56.510204</td>\n",
       "      <td>98.0</td>\n",
       "    </tr>\n",
       "    <tr>\n",
       "      <th>Petworth</th>\n",
       "      <td>49.506849</td>\n",
       "      <td>73.0</td>\n",
       "    </tr>\n",
       "    <tr>\n",
       "      <th>Mount Pleasant</th>\n",
       "      <td>49.402985</td>\n",
       "      <td>67.0</td>\n",
       "    </tr>\n",
       "    <tr>\n",
       "      <th>Kingman Park</th>\n",
       "      <td>47.302326</td>\n",
       "      <td>43.0</td>\n",
       "    </tr>\n",
       "    <tr>\n",
       "      <th>Dupont Circle</th>\n",
       "      <td>42.182927</td>\n",
       "      <td>164.0</td>\n",
       "    </tr>\n",
       "    <tr>\n",
       "      <th>Bloomingdale</th>\n",
       "      <td>41.015385</td>\n",
       "      <td>65.0</td>\n",
       "    </tr>\n",
       "    <tr>\n",
       "      <th>Logan Circle</th>\n",
       "      <td>40.602564</td>\n",
       "      <td>156.0</td>\n",
       "    </tr>\n",
       "  </tbody>\n",
       "</table>\n",
       "</div>"
      ],
      "text/plain": [
       "                            mean  count\n",
       "neighbourhood                          \n",
       "Eckington              73.083333   48.0\n",
       "Downtown/Penn Quarter  66.750000   40.0\n",
       "Capitol Hill           59.620072  279.0\n",
       "Shaw                   56.510204   98.0\n",
       "Petworth               49.506849   73.0\n",
       "Mount Pleasant         49.402985   67.0\n",
       "Kingman Park           47.302326   43.0\n",
       "Dupont Circle          42.182927  164.0\n",
       "Bloomingdale           41.015385   65.0\n",
       "Logan Circle           40.602564  156.0"
      ]
     },
     "execution_count": 47,
     "metadata": {},
     "output_type": "execute_result"
    }
   ],
   "source": [
    "daily_rev_per_neighbourhood[daily_rev_per_neighbourhood['count'] >= 40]\\\n",
    ". sort_values(by = ['mean'], ascending = False).head(10)\n",
    "# This is used to filter out the neighborhoods that have property counts greater than 40.\n",
    "# Because we want to make sure that a large specimen is used in our analysis. i.e. => 40."
   ]
  },
  {
   "cell_type": "code",
   "execution_count": 48,
   "metadata": {},
   "outputs": [
    {
     "data": {
      "image/png": "[encoded data removed]",
      "text/plain": [
       "<Figure size 432x288 with 1 Axes>"
      ]
     },
     "metadata": {
      "needs_background": "light"
     },
     "output_type": "display_data"
    }
   ],
   "source": [
    "daily_rev_per_neighbourhood_plot = daily_rev_per_neighbourhood[daily_rev_per_neighbourhood['count'] >= 40]\\\n",
    ". sort_values(by = ['mean'], ascending = True).tail(10)['mean'].plot(kind = 'barh');\n",
    "# This is used to filter out the neighborhoods that have property counts greater than 40.\n",
    "# Because we want to make sure that a large specimen is used in our analysis. i.e. => 40.\n",
    "\n",
    "#Setting a title to the plot.\n",
    "daily_rev_per_neighbourhood_plot.set_title('Daily Revenue per Neighborhood', fontsize=10, y=1.01);\n",
    "\n",
    "# Move the legend.\n",
    "daily_rev_per_neighbourhood_plot.legend(loc=4);\n",
    "\n",
    "# x-axis labels\n",
    "daily_rev_per_neighbourhood_plot.set_ylabel('', fontsize=16);\n",
    "\n",
    "# y-axis labels\n",
    "daily_rev_per_neighbourhood_plot.set_xlabel('Average Daily Revenue per Neighbourhood', fontsize=16)\n",
    "plt.xticks(rotation=0);\n",
    "\n"
   ]
  },
  {
   "cell_type": "code",
   "execution_count": 49,
   "metadata": {},
   "outputs": [
    {
     "data": {
      "text/html": [
       "<div>\n",
       "<style scoped>\n",
       "    .dataframe tbody tr th:only-of-type {\n",
       "        vertical-align: middle;\n",
       "    }\n",
       "\n",
       "    .dataframe tbody tr th {\n",
       "        vertical-align: top;\n",
       "    }\n",
       "\n",
       "    .dataframe thead th {\n",
       "        text-align: right;\n",
       "    }\n",
       "</style>\n",
       "<table border=\"1\" class=\"dataframe\">\n",
       "  <thead>\n",
       "    <tr style=\"text-align: right;\">\n",
       "      <th></th>\n",
       "      <th>revenue</th>\n",
       "    </tr>\n",
       "  </thead>\n",
       "  <tbody>\n",
       "    <tr>\n",
       "      <th>1</th>\n",
       "      <td>91000.0</td>\n",
       "    </tr>\n",
       "    <tr>\n",
       "      <th>77</th>\n",
       "      <td>18880.0</td>\n",
       "    </tr>\n",
       "    <tr>\n",
       "      <th>85</th>\n",
       "      <td>87000.0</td>\n",
       "    </tr>\n",
       "    <tr>\n",
       "      <th>108</th>\n",
       "      <td>178.0</td>\n",
       "    </tr>\n",
       "    <tr>\n",
       "      <th>159</th>\n",
       "      <td>2700.0</td>\n",
       "    </tr>\n",
       "  </tbody>\n",
       "</table>\n",
       "</div>"
      ],
      "text/plain": [
       "     revenue\n",
       "1    91000.0\n",
       "77   18880.0\n",
       "85   87000.0\n",
       "108    178.0\n",
       "159   2700.0"
      ]
     },
     "execution_count": 49,
     "metadata": {},
     "output_type": "execute_result"
    }
   ],
   "source": [
    "airbnb[airbnb['neighbourhood'] == 'Capitol Hill'][['revenue']].head()\n",
    "# Revenue Generated by capitol hill listings only."
   ]
  },
  {
   "cell_type": "code",
   "execution_count": 50,
   "metadata": {},
   "outputs": [
    {
     "data": {
      "text/html": [
       "<div>\n",
       "<style scoped>\n",
       "    .dataframe tbody tr th:only-of-type {\n",
       "        vertical-align: middle;\n",
       "    }\n",
       "\n",
       "    .dataframe tbody tr th {\n",
       "        vertical-align: top;\n",
       "    }\n",
       "\n",
       "    .dataframe thead th {\n",
       "        text-align: right;\n",
       "    }\n",
       "</style>\n",
       "<table border=\"1\" class=\"dataframe\">\n",
       "  <thead>\n",
       "    <tr style=\"text-align: right;\">\n",
       "      <th></th>\n",
       "      <th>revenue</th>\n",
       "    </tr>\n",
       "  </thead>\n",
       "  <tbody>\n",
       "    <tr>\n",
       "      <th>count</th>\n",
       "      <td>279.000000</td>\n",
       "    </tr>\n",
       "    <tr>\n",
       "      <th>mean</th>\n",
       "      <td>17798.781362</td>\n",
       "    </tr>\n",
       "    <tr>\n",
       "      <th>std</th>\n",
       "      <td>25743.860880</td>\n",
       "    </tr>\n",
       "    <tr>\n",
       "      <th>min</th>\n",
       "      <td>100.000000</td>\n",
       "    </tr>\n",
       "    <tr>\n",
       "      <th>25%</th>\n",
       "      <td>1950.000000</td>\n",
       "    </tr>\n",
       "    <tr>\n",
       "      <th>50%</th>\n",
       "      <td>8400.000000</td>\n",
       "    </tr>\n",
       "    <tr>\n",
       "      <th>75%</th>\n",
       "      <td>22332.000000</td>\n",
       "    </tr>\n",
       "    <tr>\n",
       "      <th>max</th>\n",
       "      <td>181800.000000</td>\n",
       "    </tr>\n",
       "  </tbody>\n",
       "</table>\n",
       "</div>"
      ],
      "text/plain": [
       "             revenue\n",
       "count     279.000000\n",
       "mean    17798.781362\n",
       "std     25743.860880\n",
       "min       100.000000\n",
       "25%      1950.000000\n",
       "50%      8400.000000\n",
       "75%     22332.000000\n",
       "max    181800.000000"
      ]
     },
     "execution_count": 50,
     "metadata": {},
     "output_type": "execute_result"
    }
   ],
   "source": [
    "airbnb[airbnb['neighbourhood'] == 'Capitol Hill'][['revenue']].describe()\n",
    "# Revenue Generated by capitol hill listings statistics."
   ]
  },
  {
   "cell_type": "code",
   "execution_count": 51,
   "metadata": {},
   "outputs": [
    {
     "data": {
      "image/png": "[encoded data removed]",
      "text/plain": [
       "<Figure size 432x288 with 1 Axes>"
      ]
     },
     "metadata": {
      "needs_background": "light"
     },
     "output_type": "display_data"
    }
   ],
   "source": [
    "airbnb[airbnb['neighbourhood'] == 'Capitol Hill'][['revenue']].plot(kind = 'hist', bins = 10);\n",
    "# Revenue Generated by capitol hill listings only histogram."
   ]
  },
  {
   "cell_type": "markdown",
   "metadata": {},
   "source": [
    "# Prompt #2:"
   ]
  },
  {
   "cell_type": "code",
   "execution_count": 55,
   "metadata": {},
   "outputs": [],
   "source": [
    "revenue_by_property = airbnb.groupby('property_type')['revenue'].describe().sort_values(['mean'], ascending = False)[['mean', 'count']]\n",
    "# What is the distribution of revenue per property type? \n",
    "# This line is used to discover this. "
   ]
  },
  {
   "cell_type": "code",
   "execution_count": 56,
   "metadata": {},
   "outputs": [
    {
     "data": {
      "text/html": [
       "<div>\n",
       "<style scoped>\n",
       "    .dataframe tbody tr th:only-of-type {\n",
       "        vertical-align: middle;\n",
       "    }\n",
       "\n",
       "    .dataframe tbody tr th {\n",
       "        vertical-align: top;\n",
       "    }\n",
       "\n",
       "    .dataframe thead th {\n",
       "        text-align: right;\n",
       "    }\n",
       "</style>\n",
       "<table border=\"1\" class=\"dataframe\">\n",
       "  <thead>\n",
       "    <tr style=\"text-align: right;\">\n",
       "      <th></th>\n",
       "      <th>mean</th>\n",
       "      <th>count</th>\n",
       "    </tr>\n",
       "    <tr>\n",
       "      <th>property_type</th>\n",
       "      <th></th>\n",
       "      <th></th>\n",
       "    </tr>\n",
       "  </thead>\n",
       "  <tbody>\n",
       "    <tr>\n",
       "      <th>Cabin</th>\n",
       "      <td>99880.000000</td>\n",
       "      <td>1.0</td>\n",
       "    </tr>\n",
       "    <tr>\n",
       "      <th>Bed &amp; Breakfast</th>\n",
       "      <td>12595.777778</td>\n",
       "      <td>36.0</td>\n",
       "    </tr>\n",
       "    <tr>\n",
       "      <th>House</th>\n",
       "      <td>12490.922559</td>\n",
       "      <td>891.0</td>\n",
       "    </tr>\n",
       "    <tr>\n",
       "      <th>Apartment</th>\n",
       "      <td>11090.180338</td>\n",
       "      <td>1597.0</td>\n",
       "    </tr>\n",
       "    <tr>\n",
       "      <th>Loft</th>\n",
       "      <td>9251.375000</td>\n",
       "      <td>16.0</td>\n",
       "    </tr>\n",
       "    <tr>\n",
       "      <th>Other</th>\n",
       "      <td>6071.714286</td>\n",
       "      <td>7.0</td>\n",
       "    </tr>\n",
       "    <tr>\n",
       "      <th>Townhouse</th>\n",
       "      <td>4525.590909</td>\n",
       "      <td>44.0</td>\n",
       "    </tr>\n",
       "    <tr>\n",
       "      <th>Condominium</th>\n",
       "      <td>3569.822222</td>\n",
       "      <td>45.0</td>\n",
       "    </tr>\n",
       "    <tr>\n",
       "      <th>Bungalow</th>\n",
       "      <td>1560.000000</td>\n",
       "      <td>1.0</td>\n",
       "    </tr>\n",
       "    <tr>\n",
       "      <th>Dorm</th>\n",
       "      <td>360.000000</td>\n",
       "      <td>1.0</td>\n",
       "    </tr>\n",
       "  </tbody>\n",
       "</table>\n",
       "</div>"
      ],
      "text/plain": [
       "                         mean   count\n",
       "property_type                        \n",
       "Cabin            99880.000000     1.0\n",
       "Bed & Breakfast  12595.777778    36.0\n",
       "House            12490.922559   891.0\n",
       "Apartment        11090.180338  1597.0\n",
       "Loft              9251.375000    16.0\n",
       "Other             6071.714286     7.0\n",
       "Townhouse         4525.590909    44.0\n",
       "Condominium       3569.822222    45.0\n",
       "Bungalow          1560.000000     1.0\n",
       "Dorm               360.000000     1.0"
      ]
     },
     "execution_count": 56,
     "metadata": {},
     "output_type": "execute_result"
    }
   ],
   "source": [
    "revenue_by_property"
   ]
  },
  {
   "cell_type": "code",
   "execution_count": 57,
   "metadata": {},
   "outputs": [
    {
     "data": {
      "text/html": [
       "<div>\n",
       "<style scoped>\n",
       "    .dataframe tbody tr th:only-of-type {\n",
       "        vertical-align: middle;\n",
       "    }\n",
       "\n",
       "    .dataframe tbody tr th {\n",
       "        vertical-align: top;\n",
       "    }\n",
       "\n",
       "    .dataframe thead th {\n",
       "        text-align: right;\n",
       "    }\n",
       "</style>\n",
       "<table border=\"1\" class=\"dataframe\">\n",
       "  <thead>\n",
       "    <tr style=\"text-align: right;\">\n",
       "      <th></th>\n",
       "      <th>mean</th>\n",
       "    </tr>\n",
       "    <tr>\n",
       "      <th>property_type</th>\n",
       "      <th></th>\n",
       "    </tr>\n",
       "  </thead>\n",
       "  <tbody>\n",
       "    <tr>\n",
       "      <th>Bed &amp; Breakfast</th>\n",
       "      <td>12595.777778</td>\n",
       "    </tr>\n",
       "    <tr>\n",
       "      <th>House</th>\n",
       "      <td>12490.922559</td>\n",
       "    </tr>\n",
       "    <tr>\n",
       "      <th>Apartment</th>\n",
       "      <td>11090.180338</td>\n",
       "    </tr>\n",
       "    <tr>\n",
       "      <th>Loft</th>\n",
       "      <td>9251.375000</td>\n",
       "    </tr>\n",
       "    <tr>\n",
       "      <th>Townhouse</th>\n",
       "      <td>4525.590909</td>\n",
       "    </tr>\n",
       "    <tr>\n",
       "      <th>Condominium</th>\n",
       "      <td>3569.822222</td>\n",
       "    </tr>\n",
       "  </tbody>\n",
       "</table>\n",
       "</div>"
      ],
      "text/plain": [
       "                         mean\n",
       "property_type                \n",
       "Bed & Breakfast  12595.777778\n",
       "House            12490.922559\n",
       "Apartment        11090.180338\n",
       "Loft              9251.375000\n",
       "Townhouse         4525.590909\n",
       "Condominium       3569.822222"
      ]
     },
     "execution_count": 57,
     "metadata": {},
     "output_type": "execute_result"
    }
   ],
   "source": [
    "revenue_by_property[revenue_by_property['count'] >= 10][['mean']]\n",
    "# We excluded any property types that have less than 10 listings."
   ]
  },
  {
   "cell_type": "code",
   "execution_count": 58,
   "metadata": {},
   "outputs": [
    {
     "data": {
      "image/png": "[encoded data removed]",
      "text/plain": [
       "<Figure size 432x288 with 1 Axes>"
      ]
     },
     "metadata": {
      "needs_background": "light"
     },
     "output_type": "display_data"
    }
   ],
   "source": [
    "revenue_by_property_plot =revenue_by_property[revenue_by_property['count'] >= 10][['mean']].\\\n",
    "head(10).plot(kind = 'bar', color = 'm');\n",
    "# Plotting revenue per property in descending order.\n",
    "\n",
    "\n",
    "#Setting a title to the plot.\n",
    "revenue_by_property_plot.set_title('Average Revenue Generated by Property Type', fontsize=10, y=1.01);\n",
    "\n",
    "# Move the legend.\n",
    "revenue_by_property_plot.legend(loc=1);\n",
    "\n",
    "# x-axis labels\n",
    "revenue_by_property_plot.set_ylabel('Average Revenue', fontsize=16);\n",
    "\n",
    "# y-axis labels\n",
    "revenue_by_property_plot.set_xlabel('Property Type', fontsize=16)\n",
    "plt.xticks(rotation=60);\n"
   ]
  },
  {
   "cell_type": "markdown",
   "metadata": {},
   "source": [
    "# Subprompt #3:"
   ]
  },
  {
   "cell_type": "code",
   "execution_count": 59,
   "metadata": {},
   "outputs": [
    {
     "data": {
      "text/html": [
       "<div>\n",
       "<style scoped>\n",
       "    .dataframe tbody tr th:only-of-type {\n",
       "        vertical-align: middle;\n",
       "    }\n",
       "\n",
       "    .dataframe tbody tr th {\n",
       "        vertical-align: top;\n",
       "    }\n",
       "\n",
       "    .dataframe thead th {\n",
       "        text-align: right;\n",
       "    }\n",
       "</style>\n",
       "<table border=\"1\" class=\"dataframe\">\n",
       "  <thead>\n",
       "    <tr style=\"text-align: right;\">\n",
       "      <th></th>\n",
       "      <th>count</th>\n",
       "    </tr>\n",
       "    <tr>\n",
       "      <th>neighbourhood</th>\n",
       "      <th></th>\n",
       "    </tr>\n",
       "  </thead>\n",
       "  <tbody>\n",
       "    <tr>\n",
       "      <th>Capitol Hill</th>\n",
       "      <td>279.0</td>\n",
       "    </tr>\n",
       "    <tr>\n",
       "      <th>Columbia Heights</th>\n",
       "      <td>209.0</td>\n",
       "    </tr>\n",
       "    <tr>\n",
       "      <th>Dupont Circle</th>\n",
       "      <td>164.0</td>\n",
       "    </tr>\n",
       "    <tr>\n",
       "      <th>Logan Circle</th>\n",
       "      <td>156.0</td>\n",
       "    </tr>\n",
       "    <tr>\n",
       "      <th>U Street Corridor</th>\n",
       "      <td>146.0</td>\n",
       "    </tr>\n",
       "  </tbody>\n",
       "</table>\n",
       "</div>"
      ],
      "text/plain": [
       "                   count\n",
       "neighbourhood           \n",
       "Capitol Hill       279.0\n",
       "Columbia Heights   209.0\n",
       "Dupont Circle      164.0\n",
       "Logan Circle       156.0\n",
       "U Street Corridor  146.0"
      ]
     },
     "execution_count": 59,
     "metadata": {},
     "output_type": "execute_result"
    }
   ],
   "source": [
    "listings_per_neighbourhood = airbnb.groupby('neighbourhood')['id'].describe().sort_values(['count'], ascending = False)[['count']].head()\n",
    "listings_per_neighbourhood\n",
    "# This line aims to uncover the distribution of listings per neighborhood.\n",
    "# Which contributes to knwoing which neighborhoods are the most popular. "
   ]
  },
  {
   "cell_type": "code",
   "execution_count": 60,
   "metadata": {},
   "outputs": [
    {
     "data": {
      "image/png": "[encoded data removed]",
      "text/plain": [
       "<Figure size 432x288 with 1 Axes>"
      ]
     },
     "metadata": {
      "needs_background": "light"
     },
     "output_type": "display_data"
    }
   ],
   "source": [
    "listings_per_neighbourhood_plot =listings_per_neighbourhood[listings_per_neighbourhood['count'] >= 40].\\\n",
    "sort_values(by = ['count'], ascending =False)[['count']].head(10).plot(kind = 'bar', color = 'g');\n",
    "# Plot function. \n",
    "\n",
    "#Setting a title to the plot.\n",
    "listings_per_neighbourhood_plot.set_title('Number of Listings by Neighbourhood', fontsize=10, y=1.01);\n",
    "\n",
    "# Move the legend.\n",
    "listings_per_neighbourhood_plot.legend(loc=1);\n",
    "\n",
    "# x-axis labels\n",
    "listings_per_neighbourhood_plot.set_ylabel('Number of Listings', fontsize=16);\n",
    "\n",
    "# y-axis labels\n",
    "listings_per_neighbourhood_plot.set_xlabel('Neighbourhood', fontsize=16)\n",
    "plt.xticks(rotation=60);\n"
   ]
  },
  {
   "cell_type": "markdown",
   "metadata": {},
   "source": [
    "# Subprompt 4:"
   ]
  },
  {
   "cell_type": "code",
   "execution_count": 61,
   "metadata": {},
   "outputs": [],
   "source": [
    "ratings_per_neighbourhood = airbnb.groupby('neighbourhood')['review_scores_rating']\\\n",
    ".describe().sort_values(['mean'],ascending = False)[['mean', 'count']] \n",
    "# This groupby function aims to present which neighbourhoods gatner the highest rating."
   ]
  },
  {
   "cell_type": "code",
   "execution_count": 62,
   "metadata": {},
   "outputs": [
    {
     "data": {
      "text/html": [
       "<div>\n",
       "<style scoped>\n",
       "    .dataframe tbody tr th:only-of-type {\n",
       "        vertical-align: middle;\n",
       "    }\n",
       "\n",
       "    .dataframe tbody tr th {\n",
       "        vertical-align: top;\n",
       "    }\n",
       "\n",
       "    .dataframe thead th {\n",
       "        text-align: right;\n",
       "    }\n",
       "</style>\n",
       "<table border=\"1\" class=\"dataframe\">\n",
       "  <thead>\n",
       "    <tr style=\"text-align: right;\">\n",
       "      <th></th>\n",
       "      <th>mean</th>\n",
       "    </tr>\n",
       "    <tr>\n",
       "      <th>neighbourhood</th>\n",
       "      <th></th>\n",
       "    </tr>\n",
       "  </thead>\n",
       "  <tbody>\n",
       "    <tr>\n",
       "      <th>Near Northeast/H Street Corridor</th>\n",
       "      <td>95.666667</td>\n",
       "    </tr>\n",
       "    <tr>\n",
       "      <th>Capitol Hill</th>\n",
       "      <td>94.601449</td>\n",
       "    </tr>\n",
       "    <tr>\n",
       "      <th>Eckington</th>\n",
       "      <td>94.416667</td>\n",
       "    </tr>\n",
       "    <tr>\n",
       "      <th>U Street Corridor</th>\n",
       "      <td>94.372414</td>\n",
       "    </tr>\n",
       "    <tr>\n",
       "      <th>Mount Vernon Square</th>\n",
       "      <td>94.203125</td>\n",
       "    </tr>\n",
       "    <tr>\n",
       "      <th>Georgetown</th>\n",
       "      <td>94.101449</td>\n",
       "    </tr>\n",
       "    <tr>\n",
       "      <th>16th Street Heights</th>\n",
       "      <td>94.066667</td>\n",
       "    </tr>\n",
       "    <tr>\n",
       "      <th>Logan Circle</th>\n",
       "      <td>94.013072</td>\n",
       "    </tr>\n",
       "    <tr>\n",
       "      <th>Adams Morgan</th>\n",
       "      <td>93.936364</td>\n",
       "    </tr>\n",
       "    <tr>\n",
       "      <th>Shaw</th>\n",
       "      <td>93.734694</td>\n",
       "    </tr>\n",
       "  </tbody>\n",
       "</table>\n",
       "</div>"
      ],
      "text/plain": [
       "                                       mean\n",
       "neighbourhood                              \n",
       "Near Northeast/H Street Corridor  95.666667\n",
       "Capitol Hill                      94.601449\n",
       "Eckington                         94.416667\n",
       "U Street Corridor                 94.372414\n",
       "Mount Vernon Square               94.203125\n",
       "Georgetown                        94.101449\n",
       "16th Street Heights               94.066667\n",
       "Logan Circle                      94.013072\n",
       "Adams Morgan                      93.936364\n",
       "Shaw                              93.734694"
      ]
     },
     "execution_count": 62,
     "metadata": {},
     "output_type": "execute_result"
    }
   ],
   "source": [
    "ratings_per_neighbourhood[ratings_per_neighbourhood['count'] >= 40].\\\n",
    "sort_values(by = ['mean'], ascending =False)[['mean']].head(10)\n",
    "# This function is used to filter out any neighbourhoods with listings less than 40 and sorting them\n",
    "# from largest to smallest."
   ]
  },
  {
   "cell_type": "code",
   "execution_count": 63,
   "metadata": {},
   "outputs": [
    {
     "data": {
      "image/png": "[encoded data removed]",
      "text/plain": [
       "<Figure size 432x288 with 1 Axes>"
      ]
     },
     "metadata": {
      "needs_background": "light"
     },
     "output_type": "display_data"
    }
   ],
   "source": [
    "ratings_per_neighbourhood_plot = ratings_per_neighbourhood[ratings_per_neighbourhood['count'] >= 40]. \\\n",
    "sort_values(by = ['mean'], ascending =True)[['mean']].tail(10).plot( kind = 'barh',rot = 0, xlim =(90,96));\n",
    "# Plot function that shows highest ratings per neighbourhood\n",
    "\n",
    "#Setting a title to the plot.\n",
    "ratings_per_neighbourhood_plot.set_title('Average Rating by Neighbourhood', fontsize=14, y=1.01);\n",
    "\n",
    "# Move the legend.\n",
    "ratings_per_neighbourhood_plot.legend(loc=4);\n",
    "\n",
    "# x-axis labels.\n",
    "ratings_per_neighbourhood_plot.set_ylabel('', fontsize=16);\n",
    "\n",
    "# y-axis labels.\n",
    "ratings_per_neighbourhood_plot.set_xlabel('Rating out of 100', fontsize=12)\n",
    "plt.xticks(rotation=0);"
   ]
  },
  {
   "cell_type": "code",
   "execution_count": 64,
   "metadata": {},
   "outputs": [
    {
     "data": {
      "text/html": [
       "<div>\n",
       "<style scoped>\n",
       "    .dataframe tbody tr th:only-of-type {\n",
       "        vertical-align: middle;\n",
       "    }\n",
       "\n",
       "    .dataframe tbody tr th {\n",
       "        vertical-align: top;\n",
       "    }\n",
       "\n",
       "    .dataframe thead th {\n",
       "        text-align: right;\n",
       "    }\n",
       "</style>\n",
       "<table border=\"1\" class=\"dataframe\">\n",
       "  <thead>\n",
       "    <tr style=\"text-align: right;\">\n",
       "      <th></th>\n",
       "      <th>review_scores_rating</th>\n",
       "    </tr>\n",
       "  </thead>\n",
       "  <tbody>\n",
       "    <tr>\n",
       "      <th>count</th>\n",
       "      <td>276.000000</td>\n",
       "    </tr>\n",
       "    <tr>\n",
       "      <th>mean</th>\n",
       "      <td>94.601449</td>\n",
       "    </tr>\n",
       "    <tr>\n",
       "      <th>std</th>\n",
       "      <td>6.059751</td>\n",
       "    </tr>\n",
       "    <tr>\n",
       "      <th>min</th>\n",
       "      <td>58.000000</td>\n",
       "    </tr>\n",
       "    <tr>\n",
       "      <th>25%</th>\n",
       "      <td>93.000000</td>\n",
       "    </tr>\n",
       "    <tr>\n",
       "      <th>50%</th>\n",
       "      <td>96.000000</td>\n",
       "    </tr>\n",
       "    <tr>\n",
       "      <th>75%</th>\n",
       "      <td>100.000000</td>\n",
       "    </tr>\n",
       "    <tr>\n",
       "      <th>max</th>\n",
       "      <td>100.000000</td>\n",
       "    </tr>\n",
       "  </tbody>\n",
       "</table>\n",
       "</div>"
      ],
      "text/plain": [
       "       review_scores_rating\n",
       "count            276.000000\n",
       "mean              94.601449\n",
       "std                6.059751\n",
       "min               58.000000\n",
       "25%               93.000000\n",
       "50%               96.000000\n",
       "75%              100.000000\n",
       "max              100.000000"
      ]
     },
     "execution_count": 64,
     "metadata": {},
     "output_type": "execute_result"
    }
   ],
   "source": [
    "airbnb[airbnb['neighbourhood'] == 'Capitol Hill'][['review_scores_rating']].describe()"
   ]
  },
  {
   "cell_type": "code",
   "execution_count": 65,
   "metadata": {},
   "outputs": [
    {
     "data": {
      "image/png": "[encoded data removed]",
      "text/plain": [
       "<Figure size 432x288 with 1 Axes>"
      ]
     },
     "metadata": {
      "needs_background": "light"
     },
     "output_type": "display_data"
    }
   ],
   "source": [
    "capitol_hill= airbnb[airbnb['neighbourhood'] == 'Capitol Hill'][['review_scores_rating']].plot(kind = 'hist', bins = 10);\n",
    "# Rating Scores in capital hill only. \n",
    "#Setting a title to the plot.\n",
    "capitol_hill.set_title('Average Rating Scores by Neighbourhood', fontsize=14, y=1.01);\n",
    "\n",
    "# Move the legend.\n",
    "capitol_hill.legend(loc=2);\n",
    "\n",
    "# x-axis labels.\n",
    "capitol_hill.set_ylabel('', fontsize=16);\n",
    "\n",
    "# y-axis labels.\n",
    "capitol_hill.set_xlabel('Rating out of 100', fontsize=12)\n",
    "plt.xticks(rotation=0);"
   ]
  },
  {
   "cell_type": "code",
   "execution_count": 67,
   "metadata": {},
   "outputs": [
    {
     "data": {
      "text/html": [
       "<div>\n",
       "<style scoped>\n",
       "    .dataframe tbody tr th:only-of-type {\n",
       "        vertical-align: middle;\n",
       "    }\n",
       "\n",
       "    .dataframe tbody tr th {\n",
       "        vertical-align: top;\n",
       "    }\n",
       "\n",
       "    .dataframe thead th {\n",
       "        text-align: right;\n",
       "    }\n",
       "</style>\n",
       "<table border=\"1\" class=\"dataframe\">\n",
       "  <thead>\n",
       "    <tr style=\"text-align: right;\">\n",
       "      <th></th>\n",
       "      <th></th>\n",
       "      <th>id</th>\n",
       "    </tr>\n",
       "    <tr>\n",
       "      <th>property_type</th>\n",
       "      <th>bedrooms</th>\n",
       "      <th></th>\n",
       "    </tr>\n",
       "  </thead>\n",
       "  <tbody>\n",
       "    <tr>\n",
       "      <th rowspan=\"4\" valign=\"top\">Apartment</th>\n",
       "      <th>0.0</th>\n",
       "      <td>16.340694</td>\n",
       "    </tr>\n",
       "    <tr>\n",
       "      <th>1.0</th>\n",
       "      <td>68.391167</td>\n",
       "    </tr>\n",
       "    <tr>\n",
       "      <th>2.0</th>\n",
       "      <td>14.321767</td>\n",
       "    </tr>\n",
       "    <tr>\n",
       "      <th>3.0</th>\n",
       "      <td>0.946372</td>\n",
       "    </tr>\n",
       "  </tbody>\n",
       "</table>\n",
       "</div>"
      ],
      "text/plain": [
       "                               id\n",
       "property_type bedrooms           \n",
       "Apartment     0.0       16.340694\n",
       "              1.0       68.391167\n",
       "              2.0       14.321767\n",
       "              3.0        0.946372"
      ]
     },
     "execution_count": 67,
     "metadata": {},
     "output_type": "execute_result"
    }
   ],
   "source": [
    "room = airbnb.groupby(['property_type','bedrooms'])[['id']].count()\n",
    "room\n",
    "rooms = room[:4]/room[:4].sum()*100\n",
    "rooms\n",
    "\n",
    "# Distribution of Apartment bedrooms categories in DC. "
   ]
  }
 ],
 "metadata": {
  "kernelspec": {
   "display_name": "Python 3",
   "language": "python",
   "name": "python3"
  },
  "language_info": {
   "codemirror_mode": {
    "name": "ipython",
    "version": 3
   },
   "file_extension": ".py",
   "mimetype": "text/x-python",
   "name": "python",
   "nbconvert_exporter": "python",
   "pygments_lexer": "ipython3",
   "version": "3.7.3"
  }
 },
 "nbformat": 4,
 "nbformat_minor": 2
}
